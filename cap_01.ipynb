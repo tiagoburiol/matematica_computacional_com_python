{
 "cells": [
  {
   "cell_type": "markdown",
   "metadata": {},
   "source": [
    "## 1. Introdução à Computação Numérica e Erros \n",
    "\n",
    "Para executar os códigos apresentados ao longo deste livro indica-se o uso do ambiente Google Colaboratory  (https://colab.research.google.com) que permite escrever e executar código facilmente, via navegados da internet, dispensando qualquer instalação ou configuração."
   ]
  },
  {
   "cell_type": "markdown",
   "metadata": {},
   "source": [
    "#### A abordagem numérica"
   ]
  },
  {
   "cell_type": "markdown",
   "metadata": {},
   "source": [
    "Exemplo de código para obter a menor raíz da equação $x^2-7x+3=0$ usando a fórmula recursiva  $x_{i+1} = \\frac{x_i^2 + 3}{7}$ iniciando com $x_0=1.0$."
   ]
  },
  {
   "cell_type": "code",
   "execution_count": 1,
   "metadata": {},
   "outputs": [
    {
     "name": "stdout",
     "output_type": "stream",
     "text": [
      "0.5714285714285714\n",
      "0.4752186588921283\n",
      "0.46083325339417613\n",
      "0.45890961249055157\n",
      "0.45865686177660403\n",
      "0.4586237309792518\n"
     ]
    }
   ],
   "source": [
    "x = 1.0\n",
    "for i in range(6):\n",
    "    x = x**2/7 +3/7\n",
    "    print(x)"
   ]
  },
  {
   "cell_type": "markdown",
   "metadata": {},
   "source": [
    "Substituindo os valores $r=10 cm$,  $\\mu_e =0,638 g/cm^3$ e $\\mu_a=1 g/cm^3$, com $\\pi \\approx 3.1415$, na equação\n",
    "$$ \\mu_e \\frac{4 \\pi r^3}{3} = \\mu_a \\frac{\\pi d^2 (3r-d)}{3}$$\n",
    "poderíamos chegar à seguinte equação aproximada\n",
    "$$ 1.047d^3-31.415d^2+2672.369=0$$"
   ]
  },
  {
   "cell_type": "markdown",
   "metadata": {},
   "source": [
    "Código para buscar uma solução numérica aproximada da equação $f(d) = 1.047d^3-31.415d^2+2672.369$ calculando valores no intervalo de 0 a 20 e buscando o valor de $d$ que anula a função $f$. Observando os resultados podemos concluir que a solução é um número entre 11 e 12 cm pois é o intervalo onde a função muda de sinal.  "
   ]
  },
  {
   "cell_type": "code",
   "execution_count": 7,
   "metadata": {},
   "outputs": [
    {
     "name": "stdout",
     "output_type": "stream",
     "text": [
      "f( 0 )= 2672.369\n",
      "f( 1 )= 2642.001\n",
      "f( 2 )= 2555.085\n",
      "f( 3 )= 2417.903\n",
      "f( 4 )= 2236.737\n",
      "f( 5 )= 2017.869\n",
      "f( 6 )= 1767.581\n",
      "f( 7 )= 1492.155\n",
      "f( 8 )= 1197.873\n",
      "f( 9 )= 891.017\n",
      "f( 10 )= 577.869\n",
      "f( 11 )= 264.711\n",
      "f( 12 )= -42.175\n",
      "f( 13 )= -336.507\n",
      "f( 14 )= -612.003\n",
      "f( 15 )= -862.381\n",
      "f( 16 )= -1081.359\n",
      "f( 17 )= -1262.655\n",
      "f( 18 )= -1399.987\n",
      "f( 19 )= -1487.073\n",
      "f( 20 )= -1517.631\n"
     ]
    }
   ],
   "source": [
    "for d in range(0,21):\n",
    "    y = 1.047*d**3-31.415*d**2+2672.369\n",
    "    print('f(',d,')=', round(y,3))"
   ]
  },
  {
   "cell_type": "markdown",
   "metadata": {},
   "source": [
    "Seguindo o mesmo procedimento mas agora incrementando o valor de $d$ em 0.1 e calculando $f$ para valores de $d$ entre 11 e 12 observamos que a solução está entre $11.8$ e $11.9$. "
   ]
  },
  {
   "cell_type": "code",
   "execution_count": 8,
   "metadata": {},
   "outputs": [
    {
     "name": "stdout",
     "output_type": "stream",
     "text": [
      "f( 11.0 )= 264.711\n",
      "f( 11.1 )= 233.637\n",
      "f( 11.2 )= 202.631\n",
      "f( 11.3 )= 171.701\n",
      "f( 11.4 )= 140.852\n",
      "f( 11.5 )= 110.091\n",
      "f( 11.6 )= 79.425\n",
      "f( 11.7 )= 48.858\n",
      "f( 11.8 )= 18.399\n",
      "f( 11.9 )= -11.948\n",
      "f( 12.0 )= -42.175\n"
     ]
    }
   ],
   "source": [
    "for inc in range(0,11):\n",
    "    d = 11+inc/10\n",
    "    y = 1.047*d**3-31.415*d**2+2672.369\n",
    "    print('f(',d,')=', round(y,3))"
   ]
  },
  {
   "cell_type": "markdown",
   "metadata": {},
   "source": [
    "#### Computação simbólica"
   ]
  },
  {
   "cell_type": "markdown",
   "metadata": {},
   "source": [
    "O primeiro passo é importar a biblioteca:"
   ]
  },
  {
   "cell_type": "code",
   "execution_count": 9,
   "metadata": {},
   "outputs": [],
   "source": [
    "from sympy import *\n",
    "init_printing(use_unicode=True)"
   ]
  },
  {
   "cell_type": "markdown",
   "metadata": {},
   "source": [
    "Vamos agora solucionar a equação $x^2-7x+3=0$. "
   ]
  },
  {
   "cell_type": "code",
   "execution_count": 10,
   "metadata": {},
   "outputs": [
    {
     "data": {
      "text/latex": [
       "$\\displaystyle \\left[ \\frac{7}{2} - \\frac{\\sqrt{37}}{2}, \\  \\frac{\\sqrt{37}}{2} + \\frac{7}{2}\\right]$"
      ],
      "text/plain": [
       "⎡7   √37  √37   7⎤\n",
       "⎢─ - ───, ─── + ─⎥\n",
       "⎣2    2    2    2⎦"
      ]
     },
     "execution_count": 10,
     "metadata": {},
     "output_type": "execute_result"
    }
   ],
   "source": [
    "x = symbols('x')\n",
    "solve(x**2-7*x+3, x)"
   ]
  },
  {
   "cell_type": "markdown",
   "metadata": {},
   "source": [
    "Também podemos manipular algumas expressões envolvendo integral, por exemplo:\n"
   ]
  },
  {
   "cell_type": "code",
   "execution_count": 11,
   "metadata": {},
   "outputs": [
    {
     "data": {
      "text/latex": [
       "$\\displaystyle \\mu_{a} \\left(- \\frac{d^{3} \\pi}{3} + d^{2} \\pi r\\right)$"
      ],
      "text/plain": [
       "   ⎛   3           ⎞\n",
       "   ⎜  d ⋅π    2    ⎟\n",
       "μₐ⋅⎜- ──── + d ⋅π⋅r⎟\n",
       "   ⎝   3           ⎠"
      ]
     },
     "execution_count": 11,
     "metadata": {},
     "output_type": "execute_result"
    }
   ],
   "source": [
    "d,x,mua,mue,pi,r = symbols('d, x, mu_a, mu_e,pi,r')\n",
    "mua*integrate(pi*(r**2-(x-r)**2), (x,0,d))"
   ]
  },
  {
   "cell_type": "markdown",
   "metadata": {},
   "source": [
    "Obtendo uma forma expressão para a equação do exemplo da esfera"
   ]
  },
  {
   "cell_type": "code",
   "execution_count": 12,
   "metadata": {},
   "outputs": [
    {
     "data": {
      "text/latex": [
       "$\\displaystyle - \\mu_{a} \\left(- \\frac{d^{3} \\pi}{3} + d^{2} \\pi r\\right) + \\frac{4 \\mu_{e} \\pi r^{3}}{3}$"
      ],
      "text/plain": [
       "     ⎛   3           ⎞           3\n",
       "     ⎜  d ⋅π    2    ⎟   4⋅μₑ⋅π⋅r \n",
       "- μₐ⋅⎜- ──── + d ⋅π⋅r⎟ + ─────────\n",
       "     ⎝   3           ⎠       3    "
      ]
     },
     "execution_count": 12,
     "metadata": {},
     "output_type": "execute_result"
    }
   ],
   "source": [
    "mue*((4*pi*r**3)/3)-mua*integrate(pi*(r**2-(x-r)**2), (x,0,d))"
   ]
  },
  {
   "cell_type": "markdown",
   "metadata": {},
   "source": [
    "Atribuindo valores às constantes para obter uma forma final simplificada"
   ]
  },
  {
   "cell_type": "code",
   "execution_count": 13,
   "metadata": {},
   "outputs": [],
   "source": [
    "mue = 0.638\n",
    "mua = 1.000\n",
    "r = 10\n",
    "pi = 3.1415"
   ]
  },
  {
   "cell_type": "code",
   "execution_count": 14,
   "metadata": {},
   "outputs": [
    {
     "data": {
      "text/latex": [
       "$\\displaystyle 1.04716666666667 d^{3} - 31.415 d^{2} + 2672.36933333333$"
      ],
      "text/plain": [
       "                  3           2                   \n",
       "1.04716666666667⋅d  - 31.415⋅d  + 2672.36933333333"
      ]
     },
     "execution_count": 14,
     "metadata": {},
     "output_type": "execute_result"
    }
   ],
   "source": [
    "mue*((4*pi*r**3)/3)-mua*integrate(pi*(r**2-(x-r)**2), (x,0,d))"
   ]
  },
  {
   "cell_type": "markdown",
   "metadata": {},
   "source": [
    "#### Erros nas aproximações numéricas"
   ]
  },
  {
   "cell_type": "markdown",
   "metadata": {},
   "source": [
    "Um resultado inesperado ocorre ao somar os números 0,1 e 0,2."
   ]
  },
  {
   "cell_type": "code",
   "execution_count": 15,
   "metadata": {},
   "outputs": [
    {
     "name": "stdout",
     "output_type": "stream",
     "text": [
      "0.30000000000000004\n"
     ]
    }
   ],
   "source": [
    "print(0.2 + 0.1)"
   ]
  },
  {
   "cell_type": "markdown",
   "metadata": {},
   "source": [
    " Observe o que acontece se substituirmos a raí$ x==0.45861873485089033$ na equação equação $x^2-7x+3=0$.\n"
   ]
  },
  {
   "cell_type": "code",
   "execution_count": 209,
   "metadata": {},
   "outputs": [
    {
     "name": "stdout",
     "output_type": "stream",
     "text": [
      "-8.881784197001252e-16\n"
     ]
    }
   ],
   "source": [
    "print(0.45861873485089033**2-7*0.45861873485089033+3)"
   ]
  },
  {
   "cell_type": "markdown",
   "metadata": {},
   "source": [
    "Agora vamos substituir $\\frac{7}{2}+\\frac{\\sqrt{37}}{2}$ na função."
   ]
  },
  {
   "cell_type": "code",
   "execution_count": 18,
   "metadata": {},
   "outputs": [
    {
     "name": "stdout",
     "output_type": "stream",
     "text": [
      "x = 6.541381265149109\n",
      "f(x) = 0.0\n"
     ]
    }
   ],
   "source": [
    "import math\n",
    "x = 7/2 + math.sqrt(37)/2\n",
    "print('x =',x)\n",
    "print('f(x) =',x**2-7*x+3)"
   ]
  },
  {
   "cell_type": "markdown",
   "metadata": {},
   "source": [
    "O código abaixo permite visualizar o número mais próximo de 0.1 que o computador consegur representar internamente de forma exata. "
   ]
  },
  {
   "cell_type": "code",
   "execution_count": 19,
   "metadata": {},
   "outputs": [
    {
     "data": {
      "text/plain": [
       "Decimal('0.1000000000000000055511151231257827021181583404541015625')"
      ]
     },
     "execution_count": 19,
     "metadata": {},
     "output_type": "execute_result"
    }
   ],
   "source": [
    "from decimal import Decimal\n",
    "Decimal(0.1)"
   ]
  },
  {
   "cell_type": "markdown",
   "metadata": {},
   "source": [
    "Veja abaixo como é possível visualizar o maior e o menor número real positivo que o computador consegue representar e também a precisão (épsilon da máquina)."
   ]
  },
  {
   "cell_type": "code",
   "execution_count": 197,
   "metadata": {},
   "outputs": [
    {
     "name": "stdout",
     "output_type": "stream",
     "text": [
      "Máximo representável: 1.7976931348623157e+308\n",
      "Mínimo represenável: 2.2250738585072014e-308\n",
      "Épsilon da máquina: 2.220446049250313e-16\n"
     ]
    }
   ],
   "source": [
    "import sys  \n",
    "print (\"Máximo representável:\", sys.float_info.max)\n",
    "print (\"Mínimo represenável:\", sys.float_info.min)\n",
    "print (\"Épsilon da máquina:\", sys.float_info.epsilon)"
   ]
  },
  {
   "cell_type": "markdown",
   "metadata": {},
   "source": [
    "Observe agora alguns exemplos que mostram como a ordem em que as contas são feitas pode alterar o resultado. Curioso, não é mesmo?"
   ]
  },
  {
   "cell_type": "code",
   "execution_count": 198,
   "metadata": {},
   "outputs": [
    {
     "name": "stdout",
     "output_type": "stream",
     "text": [
      "0.2 + 0.4 - 0.5 = 0.10000000000000009\n",
      "- 0.5 + 0.4 + 0.2 = 0.10000000000000003\n",
      "0.2 -0.1 + 0.2 - 0.1 = 0.20000000000000004\n",
      "0.2 - 0.1 + (0.2 - 0.1) = 0.2\n",
      "0.2 + 0.3 + 0.1 = 0.6\n",
      "0.2 + 0.1 + 0.3 = 0.6000000000000001\n"
     ]
    }
   ],
   "source": [
    "print (\"0.2 + 0.4 - 0.5 =\", 0.2 + 0.4 - 0.5)\n",
    "print (\"- 0.5 + 0.4 + 0.2 =\", - 0.5 + 0.4 + 0.2)\n",
    "print (\"0.2 -0.1 + 0.2 - 0.1 =\", 0.2 -0.1 + 0.2 - 0.1)\n",
    "print (\"0.2 - 0.1 + (0.2 - 0.1) =\", 0.2 - 0.1 + (0.2 - 0.1))\n",
    "print (\"0.2 + 0.3 + 0.1 =\", 0.2 + 0.3 + 0.1 )\n",
    "print (\"0.2 + 0.1 + 0.3 =\", 0.2 + 0.1 + 0.3) "
   ]
  }
 ],
 "metadata": {
  "kernelspec": {
   "display_name": "Python 3 (ipykernel)",
   "language": "python",
   "name": "python3"
  },
  "language_info": {
   "codemirror_mode": {
    "name": "ipython",
    "version": 3
   },
   "file_extension": ".py",
   "mimetype": "text/x-python",
   "name": "python",
   "nbconvert_exporter": "python",
   "pygments_lexer": "ipython3",
   "version": "3.12.4"
  }
 },
 "nbformat": 4,
 "nbformat_minor": 4
}
