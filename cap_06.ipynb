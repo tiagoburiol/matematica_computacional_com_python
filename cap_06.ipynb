{
 "cells": [
  {
   "cell_type": "markdown",
   "metadata": {},
   "source": [
    "## 6. Integração Numérica"
   ]
  },
  {
   "cell_type": "markdown",
   "metadata": {},
   "source": [
    "**Exemplo 6.1:**"
   ]
  },
  {
   "cell_type": "code",
   "execution_count": 1,
   "metadata": {},
   "outputs": [
    {
     "data": {
      "text/latex": [
       "$\\displaystyle \\frac{x^{3} \\log{\\left(x \\right)}}{3} - \\frac{x^{3}}{9}$"
      ],
      "text/plain": [
       " 3           3\n",
       "x ⋅log(x)   x \n",
       "───────── - ──\n",
       "    3       9 "
      ]
     },
     "execution_count": 1,
     "metadata": {},
     "output_type": "execute_result"
    }
   ],
   "source": [
    "from sympy import *\n",
    "x = symbols('x')\n",
    "init_printing(use_unicode=True)\n",
    "\n",
    "f = x**2*log(x)\n",
    "integrate(f, x)"
   ]
  },
  {
   "cell_type": "code",
   "execution_count": 2,
   "metadata": {},
   "outputs": [
    {
     "name": "stdout",
     "output_type": "stream",
     "text": [
      "-0.0940934155044049\n"
     ]
    }
   ],
   "source": [
    "F = lambda x: x**3*log(x)/3 - x**3/9\n",
    "I = F(0.8)-F(0.1)\n",
    "print(I)"
   ]
  },
  {
   "cell_type": "markdown",
   "metadata": {},
   "source": [
    "Alternativamente, usando `lambdify`:"
   ]
  },
  {
   "cell_type": "code",
   "execution_count": 3,
   "metadata": {},
   "outputs": [
    {
     "name": "stdout",
     "output_type": "stream",
     "text": [
      "-0.0940934155044049\n"
     ]
    }
   ],
   "source": [
    "F = lambdify(x,integrate(f, x))\n",
    "I = F(0.8)-F(0.1)\n",
    "print(I)"
   ]
  },
  {
   "cell_type": "markdown",
   "metadata": {},
   "source": [
    "Pela soma de Riemann com 7 subintervalos, ou seja, $h = 0.1$:"
   ]
  },
  {
   "cell_type": "code",
   "execution_count": 4,
   "metadata": {},
   "outputs": [
    {
     "name": "stdout",
     "output_type": "stream",
     "text": [
      "h= 0.1\n",
      "Ie= -0.08743221791422254 Erro= 0.006661197590182369\n",
      "Id= -0.09941082010533792 Erro= 0.0053174046009330095\n",
      "Im= -0.09443022564968762 Erro= 0.00033681014528270936\n"
     ]
    }
   ],
   "source": [
    "import numpy as np\n",
    "xi = np.linspace(0.1, 0.8, 8)\n",
    "h = xi[1]-xi[0]\n",
    "print (\"h=\",h)\n",
    "h= 0.1\n",
    "f = lambda x: x**2*np.log(x)\n",
    "Ie = h*np.sum(f(xi[0:-1]))\n",
    "print(\"Ie=\",Ie, \"Erro=\",abs(I-Ie))\n",
    "Id = h*np.sum(f(xi[1:]))\n",
    "print(\"Id=\",Id, \"Erro=\",abs(I-Id))\n",
    "Im = h*np.sum(f((xi[0:-1]+xi[1:])/2))\n",
    "print(\"Im=\",Im, \"Erro=\",abs(I-Im))"
   ]
  },
  {
   "cell_type": "markdown",
   "metadata": {},
   "source": [
    "**Exemplo 6.2:** "
   ]
  },
  {
   "cell_type": "code",
   "execution_count": 5,
   "metadata": {},
   "outputs": [
    {
     "name": "stdout",
     "output_type": "stream",
     "text": [
      "n= 5 , I= 1.3206255135651455\n",
      "n= 10 , I= 1.304727563368882\n",
      "n= 100 , I= 1.2993378314867685\n"
     ]
    }
   ],
   "source": [
    "x0 = 1.5; xn = 5.5 \n",
    "f = lambda x: 1/x\n",
    "\n",
    "for n in [5,10,100]:\n",
    "    h = (xn-x0)/n\n",
    "    xi = np.linspace(x0, xn, n+1)   \n",
    "    It = h*((f(xi[0])+f(xi[-1]))/2 + np.sum(f(xi[1:-1])))\n",
    "    print (\"n=\",n,\", I=\",It)"
   ]
  },
  {
   "cell_type": "markdown",
   "metadata": {},
   "source": [
    "ou"
   ]
  },
  {
   "cell_type": "code",
   "execution_count": 6,
   "metadata": {},
   "outputs": [
    {
     "data": {
      "text/latex": [
       "$\\displaystyle 1.2993378314867685$"
      ],
      "text/plain": [
       "1.2993378314867685"
      ]
     },
     "execution_count": 6,
     "metadata": {},
     "output_type": "execute_result"
    }
   ],
   "source": [
    "np.trapz(f(xi),dx=h)"
   ]
  },
  {
   "cell_type": "markdown",
   "metadata": {},
   "source": [
    "**Exemplo 6.3:** "
   ]
  },
  {
   "cell_type": "code",
   "execution_count": 7,
   "metadata": {},
   "outputs": [
    {
     "name": "stdout",
     "output_type": "stream",
     "text": [
      "6.772340295647981\n",
      "6.78322070363297\n",
      "6.786856407214704\n"
     ]
    }
   ],
   "source": [
    "f = lambda x: np.sqrt(x)\n",
    "xi = np.linspace(1, 5, 6)\n",
    "print(np.trapz(f(xi), xi))\n",
    "xi = np.linspace(1, 5, 11)\n",
    "print(np.trapz(f(xi), xi))\n",
    "xi = np.linspace(1, 5, 101)\n",
    "print(np.trapz(f(xi), xi))"
   ]
  },
  {
   "cell_type": "markdown",
   "metadata": {},
   "source": [
    "**Exemplo 6.4:** "
   ]
  },
  {
   "cell_type": "code",
   "execution_count": 8,
   "metadata": {},
   "outputs": [
    {
     "name": "stdout",
     "output_type": "stream",
     "text": [
      "Resultado 1/3 Simpson:  0.5060852831621655\n"
     ]
    }
   ],
   "source": [
    "x0 = 0.5; xn = 1.5 \n",
    "n = 2\n",
    "h = (xn-x0)/n\n",
    "\n",
    "f = lambda x: np.cos(x)\n",
    "x = np.linspace(x0, xn, n+1)\n",
    "y = f(xi)\n",
    "\n",
    "# Regra 1/3 de Simpson \n",
    "Is = (h/3)*(y[0] + 4*y[1] + y[2])\n",
    "print (\"Resultado 1/3 Simpson: \", Is)"
   ]
  },
  {
   "cell_type": "code",
   "execution_count": 9,
   "metadata": {},
   "outputs": [
    {
     "data": {
      "text/latex": [
       "$\\displaystyle 0.5182548311717724$"
      ],
      "text/plain": [
       "0.5182548311717724"
      ]
     },
     "execution_count": 9,
     "metadata": {},
     "output_type": "execute_result"
    }
   ],
   "source": [
    "import scipy.integrate as integrate\n",
    "integrate.simps(f(x), x)"
   ]
  },
  {
   "cell_type": "markdown",
   "metadata": {},
   "source": [
    "**Exemplo 6.5:** "
   ]
  },
  {
   "cell_type": "code",
   "execution_count": 10,
   "metadata": {},
   "outputs": [
    {
     "name": "stdout",
     "output_type": "stream",
     "text": [
      "n= 10 , I= 172.8109327815904\n",
      "n= 20 , I= 172.79549085115607\n",
      "n= 100 , I= 172.79445177011632\n"
     ]
    }
   ],
   "source": [
    "x0 = 1.0; xn = 4.0 \n",
    "f = lambda x: x*np.exp(x)+3\n",
    "\n",
    "for n in [10,20,100]:\n",
    "    h = (xn-x0)/n\n",
    "    x = np.linspace(x0, xn, n+1) \n",
    "    y = f(x)\n",
    "    I = (h/3)*(y[0] + 4*np.sum(y[1:n:2]) + 2*np.sum(y[2:n:2])+ y[-1])\n",
    "    print (\"n=\",n,\", I=\",I)"
   ]
  },
  {
   "cell_type": "markdown",
   "metadata": {},
   "source": [
    "ou"
   ]
  },
  {
   "cell_type": "code",
   "execution_count": 11,
   "metadata": {},
   "outputs": [
    {
     "name": "stdout",
     "output_type": "stream",
     "text": [
      "172.81093278159045\n",
      "172.79549085115613\n",
      "172.79445177011632\n"
     ]
    }
   ],
   "source": [
    "import scipy\n",
    "x = np.linspace(1, 4, 11) \n",
    "print(scipy.integrate.simps(f(x), x))\n",
    "\n",
    "x = np.linspace(1, 4, 21) \n",
    "print(scipy.integrate.simps(f(x), x))\n",
    "\n",
    "x = np.linspace(1, 4, 101) \n",
    "print(scipy.integrate.simps(f(x), x))"
   ]
  },
  {
   "cell_type": "markdown",
   "metadata": {},
   "source": [
    "**Exemplo 6.6:**"
   ]
  },
  {
   "cell_type": "code",
   "execution_count": 12,
   "metadata": {},
   "outputs": [
    {
     "name": "stdout",
     "output_type": "stream",
     "text": [
      "15.335299315082702\n"
     ]
    }
   ],
   "source": [
    "x = np.linspace(1,7,4)\n",
    "h = x[1]-x[0]\n",
    "f = lambda x: np.log(x+9)\n",
    "I = (3*h/8)*(f(x[0]) + 3*f(x[1])+3*f(x[2])+f(x[3]))\n",
    "print(I)"
   ]
  },
  {
   "cell_type": "code",
   "execution_count": 13,
   "metadata": {},
   "outputs": [
    {
     "name": "stdout",
     "output_type": "stream",
     "text": [
      "15.331233468068582\n"
     ]
    }
   ],
   "source": [
    "print(integrate.simps(f(x), x))"
   ]
  },
  {
   "cell_type": "markdown",
   "metadata": {},
   "source": [
    "**Exemplo 6.7:** "
   ]
  },
  {
   "cell_type": "code",
   "execution_count": 14,
   "metadata": {},
   "outputs": [
    {
     "name": "stdout",
     "output_type": "stream",
     "text": [
      "n= 4 , I= 11.761407778686316\n",
      "n= 20 , I= 11.75388556350441\n",
      "n= 40 , I= 12.510405538009266\n"
     ]
    }
   ],
   "source": [
    "x0 = 1.0; xn = 6.0 \n",
    "f = lambda x: np.log(x+9)\n",
    "\n",
    "for n in [4,20,40]:\n",
    "    h = (xn-x0)/n\n",
    "    x = np.linspace(x0, xn, n+1) \n",
    "    y = f(x)\n",
    "    # Regra 3/8 de Simpson \n",
    "    I = (3*h/8)*(y[0] + 3*np.sum(y[1:n-1:3]+ \n",
    "         y[2:n:3]) + 2*np.sum(y[3:n:3])+ y[-1])\n",
    "    print (\"n=\",n,\", I=\",I)"
   ]
  },
  {
   "cell_type": "code",
   "execution_count": null,
   "metadata": {},
   "outputs": [],
   "source": []
  }
 ],
 "metadata": {
  "kernelspec": {
   "display_name": "Python 3",
   "language": "python",
   "name": "python3"
  },
  "language_info": {
   "codemirror_mode": {
    "name": "ipython",
    "version": 3
   },
   "file_extension": ".py",
   "mimetype": "text/x-python",
   "name": "python",
   "nbconvert_exporter": "python",
   "pygments_lexer": "ipython3",
   "version": "3.8.5"
  }
 },
 "nbformat": 4,
 "nbformat_minor": 1
}
