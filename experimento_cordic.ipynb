{
  "cells": [
    {
      "cell_type": "markdown",
      "metadata": {
        "id": "aGp-g1iwv0Cu"
      },
      "source": [
        "## Estudo do algoritmo CORDIC\n",
        "\n",
        "https://en.wikipedia.org/wiki/CORDIC"
      ]
    },
    {
      "cell_type": "markdown",
      "metadata": {
        "id": "OD_TkoYUv0Cx"
      },
      "source": [
        "O algoritmo CORDIC (Coordinate Rotation Digital Computer), também conhecido como algoritmo de Volder (VOLDER, 1959), realiza o cálculo das funções trigonométricas seno e cosseno de um ângulo dado por meio de rotação vetorial. Basea-se em operações simples como soma, subtração, deslocamento de bits e tabelas, por essa razão é empregado em processadores digitais de baixa capacidade. A ideia básica por trás do algoritmo é calcular o valor de forma iterativa, gerando sucessivas aproximações. A cada interação um ângulo de correção é somado (a partir de valores tabelados), de modo a se obter uma sequência convergente, que se aproxima cada vez mais do resultado procurado."
      ]
    },
    {
      "cell_type": "markdown",
      "metadata": {
        "id": "ai96mQrRv0Cx"
      },
      "source": [
        "Para a implementação do modo rotação do algoritmo, as coordenadas $x$ e $y$ dentro do cı́rculo trigonométrico unitário, correspondentes ao ângulo $z_0$ são aproximadas e o resiltado é refinado a cada iteração. Para começar, o algoritmo toma um vetor inicial $v_0 = (1,0)^T$."
      ]
    },
    {
      "cell_type": "markdown",
      "metadata": {
        "id": "1zg7WYtsv0Cy"
      },
      "source": [
        "A cada iteração do algoritmo, o vetor $v_0$ é rotacionado em sentido anti-horário ou horário em passos decrescentes a fim de obter aproximações cada vez melhores das coordenadas $x$ e $y$ do extremo do vetor. O algoritmo inicia em\n",
        "\n",
        "$$\n",
        "\\left\\{\\begin{aligned}\n",
        "x_0 & =1\\\\\n",
        "y_0 & =0 \\\\\n",
        "z_0 & =\\theta\n",
        "\\end{aligned}\\right.\n",
        "$$\n",
        "\n",
        "O ângulo $z_0=\\theta$ é aquele para o qual deseja-se calcular o seno e o cosseno. A ideia é aplicar sucessivas rotações ao ângulo inicial ($\\pi/4$), de forma conveniente e ue possamos obter uma sequência convergente de ângulos que se aproximam cada vez mais de $z_0$.\n",
        "\n",
        "Podemos obter um vetor rotacionado $v_i$ ao aplicar uma rotação $R_i$ de um ângulo $\\gamma_i$ ao vetor $v_{i-1}$ por meio de uma multiplicação pela matriz de rotação $R_i$ fazendo\n",
        "\n",
        "$$\n",
        "v_i=R_i v_{i-1}\n",
        "$$\n",
        "\n",
        "com $i=0,1,2,3,...$, sendo $R_i$ a matriz de rotação:\n",
        "\n",
        "$$\n",
        "R_i=\\left[\\begin{array}{cc}\n",
        "\\cos \\left(\\gamma_i\\right) & -\\sin \\left(\\gamma_i\\right) \\\\\n",
        "\\sin \\left(\\gamma_i\\right) & \\cos \\left(\\gamma_i\\right)\n",
        "\\end{array}\\right]\n",
        "$$\n",
        "\n"
      ]
    },
    {
      "cell_type": "markdown",
      "metadata": {
        "id": "EICZy0jcv0Cy"
      },
      "source": [
        "**Exemplo 1:** Vamos executar um pequeno programa para rotacionar desenhar os vetores:"
      ]
    },
    {
      "cell_type": "code",
      "execution_count": null,
      "metadata": {
        "id": "7BvGlypav0Cy"
      },
      "outputs": [],
      "source": [
        "from numpy import cos, sin, pi, dot, arctan\n",
        "import matplotlib.pyplot as plt"
      ]
    },
    {
      "cell_type": "code",
      "execution_count": null,
      "metadata": {
        "id": "DNaPrilNv0Cz",
        "outputId": "61c52832-58df-4944-d3a6-c6b3f47e8050"
      },
      "outputs": [
        {
          "name": "stdout",
          "output_type": "stream",
          "text": [
            "[0.93969262 0.34202014]\n"
          ]
        }
      ],
      "source": [
        "v0 = [1,0]\n",
        "s = 20        #em graus\n",
        "s = s*pi/180  #converte em radianos\n",
        "\n",
        "R = [[cos(s), -sin(s)],\n",
        "     [sin(s),  cos(s)]]\n",
        "\n",
        "v1 = dot(R,v0)\n",
        "print(v1)"
      ]
    },
    {
      "cell_type": "code",
      "execution_count": null,
      "metadata": {
        "id": "JpJ94eXTv0C0",
        "outputId": "ac7fea70-912e-486b-c71f-5c381e35ac8d"
      },
      "outputs": [
        {
          "data": {
            "image/png": "[encoded data removed]",
            "text/plain": [
              "<Figure size 400x400 with 1 Axes>"
            ]
          },
          "metadata": {},
          "output_type": "display_data"
        }
      ],
      "source": [
        "fig, ax = plt.subplots(figsize=(4, 4))\n",
        "plt.quiver(0, 0, v0[0], v0[1], color='b', angles='xy', scale_units='xy', scale=1)\n",
        "plt.quiver(0, 0, v1[0], v1[1], color='r', angles='xy', scale_units='xy', scale=1)\n",
        "\n",
        "plt.xlim(-1.2, 1.2)\n",
        "plt.ylim(-1.2,1.2)\n",
        "ax.add_patch(plt.Circle((0,0), 1, fill=False))\n",
        "ax.set_aspect('equal')\n",
        "plt.grid()\n",
        "plt.show()"
      ]
    },
    {
      "cell_type": "markdown",
      "metadata": {
        "id": "VONsfEJJv0C1"
      },
      "source": [
        "Os passos são definidos segundo a função trigonométrica $arctan(2^{−i})$ para $i=0,1,2,3,...$.\n",
        "sin"
      ]
    },
    {
      "cell_type": "code",
      "execution_count": null,
      "metadata": {
        "id": "jCjp2eTCv0C1"
      },
      "outputs": [],
      "source": [
        "import numpy as np\n",
        "import matplotlib.pyplot as plt"
      ]
    },
    {
      "cell_type": "code",
      "execution_count": null,
      "metadata": {
        "id": "x45yl1y6v0C1"
      },
      "outputs": [],
      "source": [
        "def plota_vetores(v_list):\n",
        "    fig, ax = plt.subplots(figsize=(4,5))\n",
        "    plt.quiver(0, 0, x, y, color='b',\n",
        "                angles='xy', scale_units='xy',\n",
        "                scale=1)\n",
        "\n",
        "    plt.xlim(0, 1.2)\n",
        "    plt.ylim(0,1)\n",
        "    #ax.annotate(f'v({x},{y})', (x,y))\n",
        "    ax.set_aspect('equal')\n",
        "    plt.grid()\n",
        "    plt.show()"
      ]
    },
    {
      "cell_type": "markdown",
      "metadata": {
        "id": "Rp4T0xRbv0C1"
      },
      "source": [
        "Agora vamos observar que utilizando as identidades trigonométricas:\n",
        "\n",
        "$$\n",
        "\\sin^2(\\gamma_i)+cos^2(\\gamma_i)=1\n",
        "\\quad \\text{e} \\quad\n",
        "\\tan \\left(\\gamma_i\\right) \\equiv \\frac{\\sin \\left(\\gamma_i\\right)}{\\cos \\left(\\gamma_i\\right)}\n",
        "$$\n",
        "\n",
        "Podemos fazer:\n",
        "\n",
        "$$\\frac{\\sin^2(\\gamma_i)}{cos^2(\\gamma_i)}+1=\\frac{1}{cos^2(\\gamma_i)}$$\n",
        "\n",
        "$$\\tan^2(\\gamma_i) +1= \\frac{1}{cos^2(\\gamma_i)}$$\n",
        "\n",
        "\n",
        "\n",
        "$$ \\cos \\left(\\gamma_i\\right)=\\pm \\frac{1}{\\sqrt{1+\\tan ^2\\left(\\gamma_i\\right)}}$$"
      ]
    },
    {
      "cell_type": "markdown",
      "metadata": {
        "id": "7-fRSoItv0C1"
      },
      "source": [
        "Então, para ângulos $\\gamma_i<90^\\circ$, podemos escrever a operação de rotação como\n",
        "\n",
        "$$\n",
        "v_i=\\frac{1}{\\sqrt{1+\\tan ^2\\left(\\gamma_i\\right)}}\\left[\\begin{array}{cc}\n",
        "1 & -\\tan \\left(\\gamma_i\\right) \\\\\n",
        "\\tan \\left(\\gamma_i\\right) & 1\n",
        "\\end{array}\\right]\\left[\\begin{array}{l}\n",
        "x_{i-1} \\\\\n",
        "y_{i-1}\n",
        "\\end{array}\\right]\n",
        "$$"
      ]
    },
    {
      "cell_type": "markdown",
      "metadata": {
        "id": "2eEsbrIZv0C2"
      },
      "source": [
        "### O \"pulo do gato\"..."
      ]
    },
    {
      "cell_type": "markdown",
      "metadata": {
        "id": "Gl-p8yh_v0C2"
      },
      "source": [
        "Limitando o ângulo $\\gamma_i$ de tal forma que ele assuma valores $\\tan(\\gamma_i)=\\pm 2^{-i}$ ($i\\in \\mathbb{N}$), a **multiplicação com a tangente pode ser realizada como uma divisão de potência de dois**, o que simplifica muito o cálculo em sistemas digitais, já que a divisão pode ser feita como soma de potências da base binária.Sistemas digitatais operam em base binária.\n",
        "\n",
        "A imagem abaixo mostra o equivalente de alguns ângulos  $\\gamma_i$ tais que $\\tan(\\gamma_i)= 2^{-i}$ em radianos e seu correspondente em base binária."
      ]
    },
    {
      "cell_type": "markdown",
      "metadata": {
        "id": "_21elpBLv0C2"
      },
      "source": [
        "![tabela_atan.png](data:image/png;base64,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)"
      ]
    },
    {
      "cell_type": "markdown",
      "metadata": {
        "id": "Qmwx3rysv0C2"
      },
      "source": [
        "Então, fazendo\n",
        "\n",
        "$$\\tan(\\gamma_i)=\\pm 2^{-i} \\quad \\text{e} \\quad K_i=\\frac{1}{\\sqrt{1+2^{-2 i}}}$$\n",
        "\n",
        "podemos escrever:\n",
        "\n",
        "$$\n",
        "v_i=K_i\\left[\\begin{array}{cc}\n",
        "1 & -\\sigma_{i} 2^{-i} \\\\\n",
        "\\sigma_i 2^{-i} & 1\n",
        "\\end{array}\\right]\\left[\\begin{array}{l}\n",
        "x_{i-1} \\\\\n",
        "y_{i-1}\n",
        "\\end{array}\\right]\n",
        "$$\n",
        "\n",
        "Em que $\\sigma$ alterna entre −1 e 1 indicando o sentido de rotaprocuradoção do vetor de forma a corrigir a aproximação caso a rotação resulte em um angulo maior ou menor que o ângulo desejado."
      ]
    },
    {
      "cell_type": "markdown",
      "metadata": {
        "id": "TpbJxRDrv0C2"
      },
      "source": [
        "**Exemplo 2.** Neste exemplo vamos usar somas e subtrações de ângulos cuja tangente são potências negativas de 2 para tentar obter aproximações de um ângulo $z_0$ qualquer. Observe que aqui estamos desconsiderando o fator de escala $K$ e aplicando \"pseudo rotações\".\n"
      ]
    },
    {
      "cell_type": "code",
      "execution_count": null,
      "metadata": {
        "id": "qnnNG_mQv0C2",
        "outputId": "8bdf6478-2ea0-482a-f9f1-eba2645b5829"
      },
      "outputs": [
        {
          "name": "stdout",
          "output_type": "stream",
          "text": [
            "45.0\n",
            "26.56505117707799\n",
            "14.036243467926477\n",
            "7.125016348901798\n",
            "3.5763343749973515\n",
            "1.7899106082460694\n",
            "0.8951737102110744\n",
            "0.44761417086055305\n",
            "0.22381050036853808\n",
            "0.1119056770662069\n",
            "0.05595289189380367\n",
            "0.027976452617003676\n",
            "0.013988227142265016\n",
            "0.006994113675352918\n",
            "0.0034970568507040113\n"
          ]
        }
      ],
      "source": [
        "# angulos em graus tais que a tangente é 2e-i\n",
        "angles = []\n",
        "for i in range(15):\n",
        "    ang = arctan(2**(-i))*180/pi\n",
        "    angles.append(ang)\n",
        "    print (ang)"
      ]
    },
    {
      "cell_type": "code",
      "execution_count": null,
      "metadata": {
        "id": "nyWkBaMMv0C2",
        "outputId": "5143d899-c19a-4402-931c-e9e63df1d346"
      },
      "outputs": [
        {
          "name": "stdout",
          "output_type": "stream",
          "text": [
            "soma 45.0\n",
            "45.0\n",
            "subtrai 26.56505117707799\n",
            "18.43494882292201\n",
            "subtrai 14.036243467926477\n",
            "4.398705354995533\n",
            "soma 7.125016348901798\n",
            "11.52372170389733\n",
            "soma 3.5763343749973515\n",
            "15.100056078894681\n",
            "soma 1.7899106082460694\n",
            "16.88996668714075\n",
            "soma 0.8951737102110744\n",
            "17.785140397351825\n",
            "subtrai 0.44761417086055305\n",
            "17.33752622649127\n",
            "subtrai 0.22381050036853808\n",
            "17.11371572612273\n",
            "subtrai 0.1119056770662069\n",
            "17.001810049056523\n",
            "subtrai 0.05595289189380367\n",
            "16.94585715716272\n",
            "soma 0.027976452617003676\n",
            "16.973833609779724\n",
            "soma 0.013988227142265016\n",
            "16.987821836921988\n",
            "soma 0.006994113675352918\n",
            "16.994815950597342\n",
            "soma 0.0034970568507040113\n",
            "16.998313007448047\n"
          ]
        }
      ],
      "source": [
        "z0 = 17\n",
        "z = 0\n",
        "\n",
        "for i in range(15):\n",
        "    if z<z0:\n",
        "        print('soma', angles[i])\n",
        "        z = z + angles[i]\n",
        "    else:\n",
        "        print('subtrai', angles[i])\n",
        "        z = z - angles[i]\n",
        "    print (z)"
      ]
    },
    {
      "cell_type": "markdown",
      "metadata": {
        "id": "T1l8rwrWv0C3"
      },
      "source": [
        "Observe que a constante $K$ não influencia na rotação do vetos $v_i$, sendo apenas um fator de escala, que altera o comprimento do vetor $v_i$ e não a sua direção. Assim, podemos omitir o fator de escala $K$ durante as iterações multiplicando apenas no final.\n",
        "\n",
        "Na iteração de ordem $n$ o fator de escala a ser aplicado será\n",
        "\n",
        "$$\n",
        "K(n)=\\prod_{i=0}^{n-1} K_i=\\prod_{i=0}^{n-1} \\frac{1}{\\sqrt{1+2^{-2 i}}}\n",
        "$$\n",
        "\n",
        "em que\n",
        "\n",
        "$$\n",
        "K=\\lim _{n \\rightarrow \\infty} K(n) \\approx 0.6072529350088812561694\n",
        "$$\n",
        "\n",
        "Se necessário, para reduzir o esforço computacional, é possível manter o $K$ constante ($K=0.607252935$)."
      ]
    },
    {
      "cell_type": "markdown",
      "metadata": {
        "id": "K3GeTam9v0C3"
      },
      "source": [
        "Omitindo a constante de escala, podemos escrever:\n",
        "\n",
        "$$\n",
        "\\left\\{\\begin{array}{l}\n",
        "x_i=x_{i-1}-\\sigma_i 2^{-i} y_{i-1} \\\\\n",
        "y_i=y_{i-1}+\\sigma_i 2^{-i} x_{i-1}\n",
        "\\end{array}\\right.\n",
        "$$\n",
        "\n",
        "que fornece o processo iterativo:  \n",
        "\n",
        "$$\n",
        "\\left\\{\\begin{array}{lc}\n",
        "x_{i+1}= & x_i-\\sigma_i 2^{-i} y_i \\\\\n",
        "y_{i+1}= & y_i+\\sigma_i 2^{-i} x_i \\\\\n",
        "z_{i+1}= & z_i+\\sigma_i \\arctan \\left(2^{-i}\\right)\n",
        "\\end{array}\\right.\n",
        "$$"
      ]
    },
    {
      "cell_type": "markdown",
      "metadata": {
        "id": "CUkwh1riv0C3"
      },
      "source": [
        "O termo $z_{i+1}=  z_i-\\sigma_i \\arctan \\left(2^{-i}\\right)$ são as aproximações sucessivas de $z_0$ e durante as iterações é utilizado para comparar com o valor de $z_0$, de maneira que seja possı́vel identificar o sentido de rotação a ser realizado na próxima iteração (sentidos horário ou anti-horário)."
      ]
    },
    {
      "cell_type": "markdown",
      "metadata": {
        "id": "ocTVMdMRv0C3"
      },
      "source": [
        "Ao final do algoritmo os valores do seno e cosseno de $z_0$ serão, respectivamente, as coordenadas $y$ e $x$ multiplicadas pelo fator de escala $K$."
      ]
    },
    {
      "cell_type": "markdown",
      "metadata": {
        "id": "7JsWC5qbv0C3"
      },
      "source": [
        "$$\n",
        "\\begin{cases}\n",
        "    \\cos(z_0) \\approx  Kx_n \\\\\n",
        "    \\sin(z_0) \\approx  Ky_n\n",
        "\\end{cases}\n",
        "$$"
      ]
    },
    {
      "cell_type": "markdown",
      "metadata": {
        "id": "ofeVnIqKv0C3"
      },
      "source": [
        "**Exemplo 2:** Vamos calcular o valor aproximado do seno e do cosseno de $6^\\circ$ usando o algoritmo CORDIC.\n",
        "\n",
        "Para isso precisaremos de alguns valores de \"pré-calculados\" de ângulos cuja tangente são o inverso de potências de 2, ou seja, uma tabela de $\\sigma_i$ tais que $\\tan(\\sigma_i)=2^{-i}$, com $i=1,2,3,...$."
      ]
    },
    {
      "cell_type": "code",
      "execution_count": null,
      "metadata": {
        "id": "W2jybStov0C3",
        "outputId": "181fbd2e-7a6b-46a8-9a98-85b2654ea698"
      },
      "outputs": [
        {
          "name": "stdout",
          "output_type": "stream",
          "text": [
            "0.7853981633974483 -> 45.0\n",
            "0.4636476090008061 -> 26.56505117707799\n",
            "0.24497866312686414 -> 14.036243467926477\n",
            "0.12435499454676144 -> 7.125016348901798\n",
            "0.06241880999595735 -> 3.5763343749973515\n",
            "0.031239833430268277 -> 1.7899106082460694\n",
            "0.015623728620476831 -> 0.8951737102110744\n",
            "0.007812341060101111 -> 0.44761417086055305\n",
            "0.0039062301319669718 -> 0.22381050036853808\n",
            "0.0019531225164788188 -> 0.1119056770662069\n",
            "0.0009765621895593195 -> 0.05595289189380367\n",
            "0.0004882812111948983 -> 0.027976452617003676\n",
            "0.00024414062014936177 -> 0.013988227142265016\n",
            "0.00012207031189367021 -> 0.006994113675352918\n",
            "6.103515617420877e-05 -> 0.0034970568507040113\n",
            "3.0517578115526096e-05 -> 0.0017485284269804495\n",
            "1.5258789061315762e-05 -> 0.0008742642136937803\n",
            "7.62939453110197e-06 -> 0.00043713210687233457\n",
            "3.814697265606496e-06 -> 0.00021856605343934784\n",
            "1.907348632810187e-06 -> 0.0001092830267200715\n"
          ]
        }
      ],
      "source": [
        "from math import atan, pi, sqrt\n",
        "\n",
        "angles = [0]\n",
        "\n",
        "for i in range(20):\n",
        "    rad = atan(1/2**i)\n",
        "    deg = rad*180/pi\n",
        "    angles.append(rad)\n",
        "    print(rad,'->', deg)"
      ]
    },
    {
      "cell_type": "code",
      "execution_count": null,
      "metadata": {
        "id": "EhE-6H__v0C3",
        "outputId": "31c76b80-6765-41f2-d58c-9ffc604031e5"
      },
      "outputs": [
        {
          "name": "stdout",
          "output_type": "stream",
          "text": [
            "[0, 0.7853981633974483, 0.4636476090008061, 0.24497866312686414, 0.12435499454676144, 0.06241880999595735, 0.031239833430268277, 0.015623728620476831, 0.007812341060101111, 0.0039062301319669718, 0.0019531225164788188, 0.0009765621895593195, 0.0004882812111948983, 0.00024414062014936177, 0.00012207031189367021, 6.103515617420877e-05, 3.0517578115526096e-05, 1.5258789061315762e-05, 7.62939453110197e-06, 3.814697265606496e-06, 1.907348632810187e-06]\n"
          ]
        }
      ],
      "source": [
        "print(angles)"
      ]
    },
    {
      "cell_type": "markdown",
      "metadata": {
        "id": "W_JPuH18v0C4"
      },
      "source": [
        "Tambbém vamos precisar de valores de $K_i$ \"pré-calculados\", para isso vamos gerar a tabela"
      ]
    },
    {
      "cell_type": "code",
      "execution_count": null,
      "metadata": {
        "id": "gXwwno5Ov0C4",
        "outputId": "80b70276-d929-4bbb-cc04-81ff1b33913d"
      },
      "outputs": [
        {
          "name": "stdout",
          "output_type": "stream",
          "text": [
            "0 0.7071067811865475 0.7071067811865475\n",
            "1 0.8944271909999159 0.6324555320336758\n",
            "2 0.9701425001453319 0.6135719910778963\n",
            "3 0.9922778767136677 0.6088339125177524\n",
            "4 0.9980525784828885 0.6076482562561683\n",
            "5 0.9995120760870788 0.607351770141296\n",
            "6 0.9998779520346953 0.6072776440935261\n",
            "7 0.9999694838187878 0.6072591122988928\n",
            "8 0.9999923706927791 0.6072544793325625\n",
            "9 0.9999980926568242 0.6072533210898753\n",
            "10 0.9999995231631829 0.6072530315291345\n",
            "11 0.9999998807907318 0.607252959138945\n",
            "12 0.999999970197679 0.6072529410413973\n",
            "13 0.9999999925494194 0.6072529365170103\n",
            "14 0.9999999981373549 0.6072529353859135\n",
            "15 0.9999999995343387 0.6072529351031394\n",
            "16 0.9999999998835847 0.6072529350324458\n",
            "17 0.9999999999708962 0.6072529350147724\n",
            "18 0.999999999992724 0.607252935010354\n",
            "19 0.999999999998181 0.6072529350092495\n"
          ]
        }
      ],
      "source": [
        "kvalues = []\n",
        "prods = 1\n",
        "for i in range(20):\n",
        "    K = 1/sqrt(1+2**(-2*i))\n",
        "    prods = prods*K\n",
        "    kvalues.append(prods)\n",
        "    print (i, K, prods)"
      ]
    },
    {
      "cell_type": "code",
      "execution_count": null,
      "metadata": {
        "id": "rsvJ8e_Gv0C4",
        "outputId": "7bb4f30f-9b44-4f7f-ee02-6db088830e87"
      },
      "outputs": [
        {
          "name": "stdout",
          "output_type": "stream",
          "text": [
            "[0.7071067811865475, 0.6324555320336758, 0.6135719910778963, 0.6088339125177524, 0.6076482562561683, 0.607351770141296, 0.6072776440935261, 0.6072591122988928, 0.6072544793325625, 0.6072533210898753, 0.6072530315291345, 0.607252959138945, 0.6072529410413973, 0.6072529365170103, 0.6072529353859135, 0.6072529351031394, 0.6072529350324458, 0.6072529350147724, 0.607252935010354, 0.6072529350092495]\n"
          ]
        }
      ],
      "source": [
        "print(kvalues)"
      ]
    },
    {
      "cell_type": "code",
      "execution_count": null,
      "metadata": {
        "id": "Jltnz227v0C4"
      },
      "outputs": [],
      "source": []
    },
    {
      "cell_type": "code",
      "execution_count": null,
      "metadata": {
        "id": "1UyvPIZcv0C4",
        "outputId": "59d612c5-52fa-44b8-dbbe-42dcb924a266"
      },
      "outputs": [
        {
          "name": "stdout",
          "output_type": "stream",
          "text": [
            "1.0 0.5 0.7853981633974483 45.0\n"
          ]
        }
      ],
      "source": [
        "# inicializando\n",
        "x_ant = 1\n",
        "y_ant = 0\n",
        "\n",
        "vs = [(x_ant,y_ant)]\n",
        "\n",
        "z0 = 6\n",
        "z_ant = 0\n",
        "sigma=1\n",
        "\n",
        "# 1ª iteração\n",
        "i = 1\n",
        "x = x_ant - sigma*2**(-i)*y_ant\n",
        "y = y_ant + sigma*2**(-i)*x_ant\n",
        "z = z_ant + sigma*angles[i]\n",
        "\n",
        "x_ant = x\n",
        "y_ant = y\n",
        "z_ant = z\n",
        "\n",
        "vs.append((x,y))\n",
        "\n",
        "print(x, y, z, z*180/pi)"
      ]
    },
    {
      "cell_type": "code",
      "execution_count": null,
      "metadata": {
        "id": "NbPvmXFgv0C4"
      },
      "outputs": [],
      "source": [
        "def plota_vetores(v_list):\n",
        "    import numpy as np\n",
        "    import matplotlib.pyplot as plt\n",
        "    fig, ax = plt.subplots(figsize=(4,5))\n",
        "    for v in vs:\n",
        "        x = v[0]\n",
        "        y = v[1]\n",
        "        plt.quiver(0, 0, x, y, color='b',\n",
        "                angles='xy', scale_units='xy', scale=1)\n",
        "\n",
        "    plt.xlim(-0.2, 1.2)\n",
        "    plt.ylim(-0.2,1.2)\n",
        "    #ax.annotate(f'v({x},{y})', (x,y))\n",
        "    ax.set_aspect('equal')\n",
        "    plt.grid()\n",
        "    plt.show()"
      ]
    },
    {
      "cell_type": "code",
      "execution_count": null,
      "metadata": {
        "id": "rqD89duRv0C4",
        "outputId": "1188b9b5-c975-438c-cdae-cff69ff58e05"
      },
      "outputs": [
        {
          "data": {
            "text/plain": [
              "[(1, 0), (1.0, 0.5)]"
            ]
          },
          "execution_count": 14,
          "metadata": {},
          "output_type": "execute_result"
        }
      ],
      "source": [
        "vs"
      ]
    },
    {
      "cell_type": "code",
      "execution_count": null,
      "metadata": {
        "id": "5M9hUIrfv0C5",
        "outputId": "1eeb77e5-24a3-470e-ca66-13d2f0f2c95e"
      },
      "outputs": [
        {
          "data": {
            "image/png": "[encoded data removed]",
            "text/plain": [
              "<Figure size 400x500 with 1 Axes>"
            ]
          },
          "metadata": {},
          "output_type": "display_data"
        }
      ],
      "source": [
        "plota_vetores(vs)"
      ]
    },
    {
      "cell_type": "code",
      "execution_count": null,
      "metadata": {
        "id": "g4wTQg0Mv0C5",
        "outputId": "e3fa1269-3e7b-48c2-c493-30630e729b7a"
      },
      "outputs": [
        {
          "name": "stdout",
          "output_type": "stream",
          "text": [
            "-1\n"
          ]
        }
      ],
      "source": [
        "if (z_ant*180/pi>z0):\n",
        "    sigma = -1\n",
        "else:\n",
        "    sigma = 1\n",
        "\n",
        "print (sigma)"
      ]
    },
    {
      "cell_type": "code",
      "execution_count": null,
      "metadata": {
        "id": "_ApZdK1Wv0C5",
        "outputId": "e5c7f5f1-01b9-43a9-abf6-e61774cab42e"
      },
      "outputs": [
        {
          "name": "stdout",
          "output_type": "stream",
          "text": [
            "1.125 0.25 0.3217505543966422 18.43494882292201\n"
          ]
        },
        {
          "data": {
            "image/png": "[encoded data removed]",
            "text/plain": [
              "<Figure size 400x500 with 1 Axes>"
            ]
          },
          "metadata": {},
          "output_type": "display_data"
        }
      ],
      "source": [
        "# 2ª iteração\n",
        "i = 2\n",
        "x = x_ant - sigma*2**(-i)*y_ant\n",
        "y = y_ant + sigma*2**(-i)*x_ant\n",
        "z = z_ant + sigma*angles[i]\n",
        "\n",
        "x_ant = x\n",
        "y_ant = y\n",
        "z_ant = z\n",
        "\n",
        "print(x, y, z, z*180/pi)\n",
        "\n",
        "vs.append((x,y))\n",
        "plota_vetores(vs)"
      ]
    },
    {
      "cell_type": "code",
      "execution_count": null,
      "metadata": {
        "id": "44jzNdNcv0C5"
      },
      "outputs": [],
      "source": []
    },
    {
      "cell_type": "code",
      "execution_count": null,
      "metadata": {
        "id": "7H_0pJHFv0C8",
        "outputId": "f542a9df-aae1-4c9a-94b5-f9c091641e65"
      },
      "outputs": [
        {
          "name": "stdout",
          "output_type": "stream",
          "text": [
            "-1\n"
          ]
        }
      ],
      "source": [
        "if (z_ant*180/pi>z0):\n",
        "    sigma = -1\n",
        "else:\n",
        "    sigma = 1\n",
        "\n",
        "print (sigma)"
      ]
    },
    {
      "cell_type": "code",
      "execution_count": null,
      "metadata": {
        "id": "ktiCJ47Kv0C9",
        "outputId": "334599fb-1001-47ca-dfe0-aecb368b2f21"
      },
      "outputs": [
        {
          "name": "stdout",
          "output_type": "stream",
          "text": [
            "1.15625 0.109375 0.07677189126977804 4.398705354995532\n"
          ]
        },
        {
          "data": {
            "image/png": "[encoded data removed]",
            "text/plain": [
              "<Figure size 400x500 with 1 Axes>"
            ]
          },
          "metadata": {},
          "output_type": "display_data"
        }
      ],
      "source": [
        "# 3ª iteração\n",
        "i = 3\n",
        "x = x_ant - sigma*2**(-i)*y_ant\n",
        "y = y_ant + sigma*2**(-i)*x_ant\n",
        "z = z_ant + sigma*angles[i]\n",
        "\n",
        "x_ant = x\n",
        "y_ant = y\n",
        "z_ant = z\n",
        "\n",
        "print(x, y, z, z*180/pi)\n",
        "vs.append((x,y))\n",
        "plota_vetores(vs)"
      ]
    },
    {
      "cell_type": "code",
      "execution_count": null,
      "metadata": {
        "id": "kXTFhplev0C9",
        "outputId": "d9c73943-b0bb-4602-c194-4cea19c32952"
      },
      "outputs": [
        {
          "name": "stdout",
          "output_type": "stream",
          "text": [
            "1\n",
            "iteração: 4\n",
            "1.1494140625 0.181640625 0.20112688581653948 11.523721703897332\n"
          ]
        },
        {
          "data": {
            "image/png": "[encoded data removed]",
            "text/plain": [
              "<Figure size 400x500 with 1 Axes>"
            ]
          },
          "metadata": {},
          "output_type": "display_data"
        }
      ],
      "source": [
        "if (z_ant*180/pi>z0):\n",
        "    sigma = -1\n",
        "else:\n",
        "    sigma = 1\n",
        "print (sigma)\n",
        "\n",
        "i += 1\n",
        "\n",
        "print(\"iteração:\",i)\n",
        "x = x_ant - sigma*2**(-i)*y_ant\n",
        "y = y_ant + sigma*2**(-i)*x_ant\n",
        "z = z_ant + sigma*angles[i]\n",
        "\n",
        "x_ant = x\n",
        "y_ant = y\n",
        "z_ant = z\n",
        "\n",
        "print(x, y, z, z*180/pi)\n",
        "vs.append((x,y))\n",
        "plota_vetores(vs)"
      ]
    },
    {
      "cell_type": "code",
      "execution_count": null,
      "metadata": {
        "id": "1sgoffq5v0C9",
        "outputId": "4264d826-5693-48da-f087-05ec93dbcc56"
      },
      "outputs": [
        {
          "name": "stdout",
          "output_type": "stream",
          "text": [
            "1.15509033203125 0.145721435546875 0.13870807582058214 7.94738732889998\n",
            "1.15736722946167 0.12767314910888672 0.10746824239031387 6.15747672065391\n",
            "1.158364675939083 0.11863121762871742 0.09184451376983704 5.262303010442836\n",
            "1.157901272745221 0.12315607964410447 0.09965685482993815 5.709917181303389\n",
            "1.157660733527166 0.12541760556743498 0.10356308496190512 5.933727681671928\n",
            "1.157538255396729 0.1265481336275201 0.10551620747838394 6.045633358738135\n",
            "1.157600046477602 0.12598292940125216 0.10453964528882463 5.989680466844331\n",
            "1.1575692889264786 0.12626554660009923 0.10502792650001953 6.017656919461335\n",
            "1.15758470220121 0.12612424175525958 0.10478378587987017 6.003668692319071\n",
            "1.1575924002140126 0.1260535883920881 0.1046617155679765 5.9966745786437174\n",
            "1.1575885533637809 0.12608891530859853 0.10472275072415071 6.0001716354944215\n",
            "1.1575904773279426 0.1260712519090416 0.1046922331460352 5.998423107067441\n",
            "1.1575895154806228 0.12608008362349873 0.10470749193509651 5.999297371281136\n",
            "1.1575890345232727 0.12608449947705816 0.10471512132962761 5.999734503388008\n",
            "1.1575887940361749 0.12608670740292052 0.10471893602689322 5.999953069441447\n"
          ]
        }
      ],
      "source": [
        "for i in range(5,20):\n",
        "    if (z_ant*180/pi>z0):\n",
        "        sigma = -1\n",
        "    else:\n",
        "        sigma = 1\n",
        "\n",
        "    x = x_ant - sigma*2**(-i)*y_ant\n",
        "    y = y_ant + sigma*2**(-i)*x_ant\n",
        "    z = z_ant + sigma*angles[i]\n",
        "\n",
        "    x_ant = x\n",
        "    y_ant = y\n",
        "    z_ant = z\n",
        "\n",
        "    print(x, y, z, z*180/pi)\n"
      ]
    },
    {
      "cell_type": "code",
      "execution_count": null,
      "metadata": {
        "id": "Tbk3tjCYv0C9"
      },
      "outputs": [],
      "source": []
    },
    {
      "cell_type": "markdown",
      "metadata": {
        "id": "NdmLBgwGv0C9"
      },
      "source": [
        "# Implementação CODIC"
      ]
    },
    {
      "cell_type": "code",
      "execution_count": null,
      "metadata": {
        "id": "KEoouavyv0C-"
      },
      "outputs": [],
      "source": [
        "angles = [\n",
        "    0.78539816339745, 0.46364760900081, 0.24497866312686, 0.12435499454676,\n",
        "    0.06241880999596, 0.03123983343027, 0.01562372862048, 0.00781234106010,\n",
        "    0.00390623013197, 0.00195312251648, 0.00097656218956, 0.00048828121119,\n",
        "    0.00024414062015, 0.00012207031189, 0.00006103515617, 0.00003051757812,\n",
        "    0.00001525878906, 0.00000762939453, 0.00000381469727, 0.00000190734863,\n",
        "    0.00000095367432, 0.00000047683716, 0.00000023841858, 0.00000011920929,\n",
        "    0.00000005960464, 0.00000002980232, 0.00000001490116, 0.00000000745058\n",
        "]\n",
        "kvalues = [\n",
        "    0.70710678118655, 0.63245553203368, 0.61357199107790, 0.60883391251775,\n",
        "    0.60764825625617, 0.60735177014130, 0.60727764409353, 0.60725911229889,\n",
        "    0.60725447933256, 0.60725332108988, 0.60725303152913, 0.60725295913894,\n",
        "    0.60725294104140, 0.60725293651701, 0.60725293538591, 0.60725293510314,\n",
        "    0.60725293503245, 0.60725293501477, 0.60725293501035, 0.60725293500925,\n",
        "    0.60725293500897, 0.60725293500890, 0.60725293500889, 0.60725293500888\n",
        "]\n",
        "radians = lambda degrees: (degrees * pi) / 180"
      ]
    },
    {
      "cell_type": "code",
      "execution_count": null,
      "metadata": {
        "id": "7HQ6oB5Vv0C-"
      },
      "outputs": [],
      "source": [
        "def Cordic(alpha, n, c_cos, c_sin):\n",
        "    from math import pi, sin, cos, floor\n",
        "    fig, ax = plt.subplots(figsize=(4,5))\n",
        "    i, ix, sigma = 0, 0, 0\n",
        "    kn, x, y, atn, t, theta = 0.0, 0.0, 0.0, 0.0, 0.0, 0.0\n",
        "    pow2 = 1.0\n",
        "    newsgn = 1 if floor(alpha / (2.0 * pi)) % 2 == 1 else -1\n",
        "\n",
        "\n",
        "    if alpha < -pi/2.0 or alpha > pi/2.0:\n",
        "        if alpha < 0:\n",
        "            Cordic(alpha + pi, n, x, y)\n",
        "        else:\n",
        "            Cordic(alpha - pi, n, x, y)\n",
        "        c_cos = x * newsgn\n",
        "        c_sin = y * newsgn\n",
        "        return c_cos, c_sin\n",
        "    ix = n - 1\n",
        "    if ix > 23: ix = 23\n",
        "    kn = kvalues[ix]\n",
        "    x = 1\n",
        "    y = 0\n",
        "    for i in range(n):\n",
        "        atn = angles[i]\n",
        "        sigma = 1 if theta < alpha else -1\n",
        "        t = x\n",
        "        x -= sigma * y * pow2\n",
        "        y += sigma * t * pow2\n",
        "        theta += sigma * atn\n",
        "        print(x,y,theta,theta*180/pi)\n",
        "        pow2 /= 2.0\n",
        "\n",
        "        ax.quiver(0, 0, x, y, color='k',\n",
        "          angles='xy', scale_units='xy', scale=1, alpha=0.2+i*0.04)\n",
        "        ax.annotate(f'i={i}', (x,y))\n",
        "\n",
        "    plt.xlim(0, 2)\n",
        "    plt.ylim(0, 2)\n",
        "    #ax.annotate(f'v({x},{y})', (x,y))\n",
        "    ax.set_aspect('equal')\n",
        "    plt.grid()\n",
        "    plt.show()\n",
        "\n",
        "    c_cos = x * kn\n",
        "    c_sin = y * kn\n",
        "    return c_cos, c_sin, theta"
      ]
    },
    {
      "cell_type": "code",
      "execution_count": null,
      "metadata": {
        "id": "-EwDJzlGv0C-",
        "outputId": "4ecb74bb-69ad-412b-8023-74eb5331fe2b"
      },
      "outputs": [
        {
          "name": "stdout",
          "output_type": "stream",
          "text": [
            "0.10471975511965977\n"
          ]
        }
      ],
      "source": [
        "ang = radians(6)\n",
        "print(ang)"
      ]
    },
    {
      "cell_type": "code",
      "execution_count": null,
      "metadata": {
        "id": "Q3QVK6Llv0C-",
        "outputId": "4ca66fc6-7b09-4184-8565-4cf963987e89"
      },
      "outputs": [
        {
          "name": "stdout",
          "output_type": "stream",
          "text": [
            "1.0 1.0 0.78539816339745 45.0000000000001\n",
            "1.5 0.5 0.3217505543966401 18.43494882292189\n",
            "1.625 0.125 0.07677189126978007 4.3987053549956485\n",
            "1.609375 0.328125 0.20112688581654006 11.523721703897364\n",
            "1.6298828125 0.2275390625 0.13870807582058006 7.94738732889986\n",
            "1.636993408203125 0.176605224609375 0.10746824239031007 6.157476720653693\n",
            "1.6397528648376465 0.15102720260620117 0.09184451376983006 5.262303010442436\n",
            "1.6385729648172855 0.16383777186274529 0.09965685482993006 5.7099171813029255\n",
            "1.6379329735209467 0.1702384475065628 0.10356308496190006 5.933727681671637\n",
            "1.6376004765531604 0.1734375353454709 0.10551620747838006 6.045633358737912\n",
            "1.6377698491462713 0.17183831613008696 0.10453964528882005 5.989680466844068\n",
            "1.6376859437184734 0.1726380084392404 0.10502792650001005 6.0176569194607925\n",
            "1.6377280916697525 0.17223818276938727 0.10478378587986005 6.00366869231849\n",
            "1.6377491168385476 0.17203826478944712 0.10466171556797005 5.996674578643348\n",
            "1.6377386164561751 0.17213822506269166 0.10472275072414004 6.0001716354938095\n",
            "1.6377438696979068 0.17208824524651564 0.10469223314602004 5.998423107066573\n",
            "1.6377412438396723 0.17211323523476177 0.10470749193508004 5.999297371280192\n",
            "1.6377399307198968 0.17212573020885114 0.10471512132961004 5.9997345033870015\n",
            "1.6377392741123444 0.17213197769088665 0.10471893602688004 5.999953069440691\n",
            "1.637738945796652 0.17213510143065203 0.10472084337551003 6.00006235246725\n"
          ]
        },
        {
          "data": {
            "image/png": "[encoded data removed]",
            "text/plain": [
              "<Figure size 400x500 with 1 Axes>"
            ]
          },
          "metadata": {},
          "output_type": "display_data"
        },
        {
          "name": "stdout",
          "output_type": "stream",
          "text": [
            "0.10452954556187839\n",
            "0.994521781613972\n",
            "6.00006235246725\n"
          ]
        }
      ],
      "source": [
        "c_cos, c_sin, c_theta = Cordic(ang, 20, 0, 0)\n",
        "print(c_sin)\n",
        "print(c_cos)\n",
        "print (c_theta*180/pi)"
      ]
    },
    {
      "cell_type": "code",
      "execution_count": null,
      "metadata": {
        "id": "aanPLvK6v0C-"
      },
      "outputs": [],
      "source": []
    },
    {
      "cell_type": "code",
      "execution_count": null,
      "metadata": {
        "id": "bkwEnCisv0C-"
      },
      "outputs": [],
      "source": []
    }
  ],
  "metadata": {
    "kernelspec": {
      "display_name": "Python 3 (ipykernel)",
      "language": "python",
      "name": "python3"
    },
    "language_info": {
      "codemirror_mode": {
        "name": "ipython",
        "version": 3
      },
      "file_extension": ".py",
      "mimetype": "text/x-python",
      "name": "python",
      "nbconvert_exporter": "python",
      "pygments_lexer": "ipython3",
      "version": "3.8.5"
    },
    "colab": {
      "provenance": []
    }
  },
  "nbformat": 4,
  "nbformat_minor": 0
}