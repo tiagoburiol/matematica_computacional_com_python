{
 "cells": [
  {
   "cell_type": "markdown",
   "metadata": {},
   "source": [
    "## 1. Introdução à Computação Numérica e Erros \n",
    "\n",
    "Neste livro serão apresentados conceitos básicos, métodos e exemplos que darão ao leitor uma visão geral sobre matemática computacional e suas aplicações. No primeiro capítulo serão apresentados aspectos sobre as abordagens numérica e analítica, e serão introduzidos os primeiros exemplos práticos com uso de Python. Serão evitadas explicações sobre esta linguagem de programação por existirem inúmeras fontes gratuitas para consulta e aprendizagem. Partindo de exemplos simples e pequenos códigos, a cada capítulo serão apresentados novos tópicos de cálculo e álgebra linear sob o enfoque prático e computacional. Os capítulos estão organizados de modo a oferecer ao leitor um aprendizado incremental tanto nos aspectos teóricos quanto práticos. Iniciando com noções básicas de programação, passando pela construção de gráficos e rotinas iterativas, serão contemplados tópicos chave para uma breve introdução teórico-prática à matemática computacional com Python. Para executar os códigos apresentados ao longo deste livro indica-se o uso do ambiente Google Colaboratory  (https://colab.research.google.com) que permite escrever e executar código facilmente, via navegados da internet, dispensando qualquer instalação ou configuração."
   ]
  },
  {
   "cell_type": "markdown",
   "metadata": {},
   "source": [
    "#### 1.1 O que é matemática computacional?"
   ]
  },
  {
   "cell_type": "markdown",
   "metadata": {},
   "source": [
    "A matemática computacional é um ramo da matemática que faz uso da computação para buscar soluções de problemas aplicados, provenientes de diferentes áreas de conhecimento. Em outras palavras, trata de resolver computacionalmente modelos matemáticos, ou seja, por meio de algoritmos e de programação de computadores.\n",
    "\tA importância do uso dos computadores para essa finalidade está no fato de que muitos métodos para a análise, visualização e resolução de modelos matemáticos envolvem grande quantidade de cálculos aritméticos tediosos. Muitas vezes, até mesmo modelos aparentemente simples podem ser difíceis de resolver por métodos analíticos, ou exatos, usando a álgebra simbólica. Nesses casos, os métodos numéricos são a alternativa para buscar soluções aproximadas tão precisas quanto se queira e, para isso, o computador torna-se um grande aliado."
   ]
  },
  {
   "cell_type": "markdown",
   "metadata": {},
   "source": [
    "Muitos problemas para os quais a matemática computacional serve são originários das ciências naturais e sociais, da engenharia, das finanças e nem sempre podem ser facilmente resolvidos por processos analíticos. Um exemplo clássico é o modelo matemático da lei da gravitação universal, de Isaac Newton (1643-1729), que diz que a força da gravidade exercida pela Terra num corpo de massa  é dada por pela equação mostrada na figura 1.1.\n",
    "\n",
    "<img src=\"figuras/png/gravitacao.png\" width=\"380\">\n",
    "Figura 1.1 -  Lei da gravitação universal\n",
    "\n",
    "\n",
    "sendo $m_t$ a massa da Terra, $d$ a distância entre os centros dos dois corpos e $G$ a constante de gravitação universal. Esse modelo conduz à formulação de outros, como por exemplo, para descrever um sistema de três corpos que interagem entre si por força gravitacional. Neste caso, a solução analítica é impossível de se obter, restando apenas o recurso da abordagem numérica.\n"
   ]
  },
  {
   "cell_type": "markdown",
   "metadata": {},
   "source": [
    "Um outro exemplo é um pequeno circuito elétrico (figura 1.2) formado por uma fonte de energia fornecendo uma tensão ($V$) e uma resistência ($R$), gerando uma corrente ($i$) dada pela Lei de Kirchoff:  $V-R\\,i=0$. Nesse caso é fácil obter analiticamente o valor da corrente elétrica, basta fazer $i=\\frac{V}{R}$. No entanto, ao adicionar um diodo semicondutor, o modelo matemático (equação) fica mais complicado emesmo conhecendo as constantes $k$,$q$,$T$ e $I_s$, não conseguimos mais obter facilmente o valor da corrente $i$ analiticamente.\n",
    "\n",
    "<img src=\"figuras/png/circuito.png\" width=\"380\">"
   ]
  },
  {
   "cell_type": "markdown",
   "metadata": {},
   "source": [
    "Observe que algumas equações são relativamente fáceis de resolver analiticamente, veja as equações (a), (b) e (c). Já para as equações (d), (e) e (f) é preferível utilizar métodos numéricos:\n",
    "\n",
    "(a) $2.1x-47.3 = 0$\n",
    "\n",
    "(b) $x^2+2x-3 = 0$\n",
    "\n",
    "(c) $senx-x = 0$\n",
    "\n",
    "(e) $xe^x-2 = 0$\n",
    "\n",
    "(f) $cos3\\theta- sen\\theta =0$\n",
    "\n",
    "(g) $2.1^x+5.7x=0$. \n"
   ]
  },
  {
   "cell_type": "markdown",
   "metadata": {},
   "source": [
    "Por fim, um último exemplo. Seja uma esfera de madeira de raio $r$ colocada a flutuar sobre a água conforme figura. Qual é a altura $d$ da esfera que ficará submersa? \n",
    "\n",
    "<img src=\"figuras/png/esfera.png\" width=\"340\">\n",
    "\n",
    "Para responder essa pergunta, observemos que, pelo *Princípio de Arquimedes* o peso da esfera deve ser equilibrado com o peso do volume de água deslocada, ou seja, $\\mu_e V_e g = \\mu_a V_a g$ onde $g$ é a aceleração da gravidade, $\\mu_e$ é a densidade relativa da madeira e $\\mu_a$ é a densidade relativa da água, $V_e$ e $V_a$ são os volumes. Essa equação nos leva a \n",
    "\n",
    "$$ \\mu_e \\frac{4 \\pi r^3}{3} = \\mu_a \\int_0^d \\pi \\left[r^2-(x-r)^2) \\right]dx $$\n",
    "\n",
    "$$ \\mu_e \\frac{4 \\pi r^3}{3} = \\mu_a \\frac{\\pi d^2 (3r-d)}{3}$$\n",
    "\n",
    "$$ 4 \\mu_e r^3 = \\mu_a d^2 (3r-d)$$\n",
    "\n",
    "substituindo os valores: $r=10 cm$  $\\mu_e =0,638 g/cm^3$ e $\\mu_a=1 g/cm^3$ obtemos \n",
    "\n",
    "\n",
    "$$ 1.047d^3-31.415d^2+2672.369=0$$ \n",
    "\n",
    "Basta resolver essa equação para obter a resposta procurada. Embora a solução analítica para esse problema possa ser encontrada, não é tão simples. No entanto, com uma rotina num simples podemos encontrar uma boa aproximação numericamente. "
   ]
  },
  {
   "cell_type": "markdown",
   "metadata": {},
   "source": [
    "Com esses exemplos é fácil perceber que os métodos numéricos são especialmente úteis em situações em que é difícil ou impossível \n",
    "obter uma resposta exata analiticamente. Ou então, quando a quantidade de dados ou informações a serem processadas é muito grande e torna-se repetitivo e tedioso fazer sem o uso de recursos computacionais.\n",
    "\n",
    "Obviamente os métodos da matemática computacional não se restringem apenas a resolver pequenas equações numericamente. A capacidade de memória e processamento computacional disponível atualmente em computadores pessoais permite lidar com grandes conjuntos de dados, realizar simulações e previsões sofisticadas e visualizar informações complexas e multidimensionais.    \n",
    "\n",
    "A matemática computacional pode auxiliar nas diversas fases de um estudo e permitir a realização de experimentos numéricos e de processamento algébrico simbólico inclusive na busca de uma solução analítica. De modo simplificado, a resolução de um problema de ciênca ou engenharia passa necessariamente por 3 etapas distintas\n",
    "1. observação e entendimento do(s) fenômeno(s) envolvido(s);\n",
    "2. construção de um modelo matemático que represente o problema;\n",
    "3. a resolução do modelo matemático por métodos numéricos ou analíticos."
   ]
  },
  {
   "cell_type": "markdown",
   "metadata": {},
   "source": [
    "#### A abordagem numérica"
   ]
  },
  {
   "cell_type": "markdown",
   "metadata": {},
   "source": [
    "Para entendermos melhor como podemos obter soluções aproximadas por métodos numéricos, vejamos o seguinte exemplo: suponha que você esteja interessado e encontrar a menor raíz da equação $x^2-7x+3=0$. Para essa situação podemos facilmente obter uma solução exata usando fórmula de Bháskara que resulta em $x= \\frac{7- \\sqrt{37}}{2}$. Por outro lado, podemos também obter uma sequência convergente de aproximações $\\{x_1,x_2,...,x_n\\}$, a partir de um chute inicial $x_0$, usando a fórmula recursiva  $x_{i+1} = \\frac{x_i^2 + 3}{7}$. \n",
    "\n",
    "Iniciando com $x_0=1.0$ e fazendo as contas para $x_1, x_2,...$ chegamos, na sexta iteração, em $x_6=0.45862$, que é uma solução aproximada com precisão de cinco casas decimais. Com um pouquinho de conhecimento em Python é fácil gerar esses resultados, basta escrever um pequeno programa, como o que é mostrado a seguir:"
   ]
  },
  {
   "cell_type": "code",
   "execution_count": 8,
   "metadata": {},
   "outputs": [
    {
     "name": "stdout",
     "output_type": "stream",
     "text": [
      "0.5714285714285714\n",
      "0.4752186588921283\n",
      "0.46083325339417613\n",
      "0.45890961249055157\n",
      "0.45865686177660403\n",
      "0.4586237309792518\n"
     ]
    }
   ],
   "source": [
    "x = 1.0\n",
    "for i in range(6):\n",
    "    x = x**2/7 +3/7\n",
    "    print(x)"
   ]
  },
  {
   "cell_type": "markdown",
   "metadata": {},
   "source": [
    "A fórmula recursiva usada no exemplo acima foi obtida por um método chamado _método do ponto fixo_ que será estudado mais adiante."
   ]
  },
  {
   "cell_type": "markdown",
   "metadata": {},
   "source": [
    "Podemos utilizar outras abordagens para obter soluções numéricas de equações, vejamos por exemplo a equação $f(d) = 1.047d^3-31.415d^2+2672.369$ do exemplo descrito anteriormente. Dos dados do problema, podemos inferir que a solução é um número entre 0 e 20, então, calculamos valores da função nesse intervalo e tentar encontrar uma aproximação. Buscamos o valor de $d$ que anula a função $f$, então, observando os resultados na tabera abaixo, podemos concluir que a solução é um número entre 11 e 12 cm pois é o intervalo onde a função muda de sinal.  "
   ]
  },
  {
   "cell_type": "code",
   "execution_count": 10,
   "metadata": {},
   "outputs": [
    {
     "name": "stdout",
     "output_type": "stream",
     "text": [
      "f( 0 )= 2672.369\n",
      "f( 1 )= 2642.001\n",
      "f( 2 )= 2555.085\n",
      "f( 3 )= 2417.903\n",
      "f( 4 )= 2236.737\n",
      "f( 5 )= 2017.869\n",
      "f( 6 )= 1767.581\n",
      "f( 7 )= 1492.155\n",
      "f( 8 )= 1197.873\n",
      "f( 9 )= 891.017\n",
      "f( 10 )= 577.869\n",
      "f( 11 )= 264.711\n",
      "f( 12 )= -42.175\n",
      "f( 13 )= -336.507\n",
      "f( 14 )= -612.003\n",
      "f( 15 )= -862.381\n",
      "f( 16 )= -1081.359\n",
      "f( 17 )= -1262.655\n",
      "f( 18 )= -1399.987\n",
      "f( 19 )= -1487.073\n",
      "f( 20 )= -1517.631\n"
     ]
    }
   ],
   "source": [
    "for d in range(0,21):\n",
    "    y = 1.047*d**3-31.415*d**2+2672.369\n",
    "    print('f(',d,')=', round(y,3))"
   ]
  },
  {
   "cell_type": "markdown",
   "metadata": {},
   "source": [
    "Seguindo o mesmo procedimento mas agora incrementando o valor de $d$ em 0.1 e calculando $f$ para valores de $d$ entre 11 e 12 observamos que a solução está entre $11.8$ e $11.9$. "
   ]
  },
  {
   "cell_type": "code",
   "execution_count": 11,
   "metadata": {},
   "outputs": [
    {
     "name": "stdout",
     "output_type": "stream",
     "text": [
      "f( 11.0 )= 264.711\n",
      "f( 11.1 )= 233.637\n",
      "f( 11.2 )= 202.631\n",
      "f( 11.3 )= 171.701\n",
      "f( 11.4 )= 140.852\n",
      "f( 11.5 )= 110.091\n",
      "f( 11.6 )= 79.425\n",
      "f( 11.7 )= 48.858\n",
      "f( 11.8 )= 18.399\n",
      "f( 11.9 )= -11.948\n",
      "f( 12.0 )= -42.175\n"
     ]
    }
   ],
   "source": [
    "for inc in range(0,11):\n",
    "    d = 11+inc/10\n",
    "    y = 1.047*d**3-31.415*d**2+2672.369\n",
    "    print('f(',d,')=', round(y,3))"
   ]
  },
  {
   "cell_type": "markdown",
   "metadata": {},
   "source": [
    "Por fim, podemos tomar como solução aproximada o ponto médio entre $11.8$ e $11.9$, ou seja, $d=11.85$. A precisão é de $0.05$."
   ]
  },
  {
   "cell_type": "markdown",
   "metadata": {},
   "source": [
    "Esses foram pequenos exemplos de como os métodos numéricos podem nos auxiliar a obter soluções aproximadas quando não é fácil ou possível obter soluções analíticas. Os métodos numéricos são utilizados para muitas outras situações, como resolver integrais definidas, sistemas lineares de grande porte, equações diferenciais, obter visualização de grandes conjuntos de dados, etc."
   ]
  },
  {
   "cell_type": "markdown",
   "metadata": {},
   "source": [
    "Por fim é importante estar atento que ao resolver um problema numericamente, é desejável que o algoritmo cumpra alguns requisitos de acurácia, eficiência, robustez e estabilidade. A acurácia é a proximidade da solução exata, a eficiência refere-se à capacidade de fornecer o resultado de forma rápida e com menor custo computacional, ou seja, uso de memória e processamento. A robustez é a capacidade do algoritmo de funcionar em diferentes condições iniciais e dados de entrada e, por fim, a estabilidade garante que o algoritmo não seja sensível à pequenas variações nos dados de entrada. \n",
    " "
   ]
  },
  {
   "cell_type": "markdown",
   "metadata": {},
   "source": [
    "#### Computação simbólica"
   ]
  },
  {
   "cell_type": "markdown",
   "metadata": {},
   "source": [
    "Os recursos computacionais para a matemática não são apenas numéricos, também podem ser de processamentos simbólicos. Um bom exemplo é a biblioteca SymPy. A computação simbólica trata com a computação de objetos matemáticos simbolicamente, ou seja, os objetos matemáticos são representados exatamente, não aproximadamente, e as expressões matemáticas com variáveis não avaliadas são deixadas na forma simbólica.\n",
    "\n",
    "Como exemplo do uso de Sympy vamos usar computação simbólica para estudar os exemplos dados no começo desse capítulo. O promeiro passo é importar a biblioteca:"
   ]
  },
  {
   "cell_type": "code",
   "execution_count": 199,
   "metadata": {},
   "outputs": [],
   "source": [
    "from sympy import *\n",
    "init_printing(use_unicode=True)"
   ]
  },
  {
   "cell_type": "markdown",
   "metadata": {},
   "source": [
    "Vamos agora solucionar a equação $x^2-7x+3=0$. Vamos fazer isso definindo $x$ como um símbolo e usando o comando `solve`."
   ]
  },
  {
   "cell_type": "code",
   "execution_count": 200,
   "metadata": {},
   "outputs": [
    {
     "data": {
      "image/png": "[encoded data removed]",
      "text/latex": [
       "$\\displaystyle \\left[ \\frac{7}{2} - \\frac{\\sqrt{37}}{2}, \\  \\frac{\\sqrt{37}}{2} + \\frac{7}{2}\\right]$"
      ],
      "text/plain": [
       "⎡7   √37  √37   7⎤\n",
       "⎢─ - ───, ─── + ─⎥\n",
       "⎣2    2    2    2⎦"
      ]
     },
     "execution_count": 200,
     "metadata": {},
     "output_type": "execute_result"
    }
   ],
   "source": [
    "x = symbols('x')\n",
    "solve(x**2-7*x+3, x)"
   ]
  },
  {
   "cell_type": "markdown",
   "metadata": {},
   "source": [
    "Observe que a resposta é simbólica e não numérica.  Resposta fornecida é exata. "
   ]
  },
  {
   "cell_type": "markdown",
   "metadata": {},
   "source": [
    "Também podemos manipular algumas expressões envolvendo integral, por exemplo, vamos calcular a integral $$\\mu_a \\int_0^d \\pi \\left[r^2-(x-r)^2) \\right]dx$$ de forma simbólica. Para isso definimos os símbolos e usamos o comando `integrate`.\n"
   ]
  },
  {
   "cell_type": "code",
   "execution_count": 184,
   "metadata": {},
   "outputs": [
    {
     "data": {
      "image/png": "[encoded data removed]",
      "text/latex": [
       "$\\displaystyle \\mu_{a} \\left(- \\frac{d^{3} \\pi}{3} + d^{2} \\pi r\\right)$"
      ],
      "text/plain": [
       "   ⎛   3           ⎞\n",
       "   ⎜  d ⋅π    2    ⎟\n",
       "μₐ⋅⎜- ──── + d ⋅π⋅r⎟\n",
       "   ⎝   3           ⎠"
      ]
     },
     "execution_count": 184,
     "metadata": {},
     "output_type": "execute_result"
    }
   ],
   "source": [
    "d,x,mua,mue,pi,r = symbols('d, x, mu_a, mu_e,pi,r')\n",
    "mua*integrate(pi*(r**2-(x-r)**2), (x,0,d))"
   ]
  },
  {
   "cell_type": "markdown",
   "metadata": {},
   "source": [
    "Obtendo uma forma expressão para a equação do exemplo da esfera. Podemos obter uma forma fatorada da integral acima usando o comando `factor`."
   ]
  },
  {
   "cell_type": "code",
   "execution_count": 185,
   "metadata": {},
   "outputs": [
    {
     "data": {
      "image/png": "[encoded data removed]",
      "text/latex": [
       "$\\displaystyle - \\mu_{a} \\left(- \\frac{d^{3} \\pi}{3} + d^{2} \\pi r\\right) + \\frac{4 \\mu_{e} \\pi r^{3}}{3}$"
      ],
      "text/plain": [
       "     ⎛   3           ⎞           3\n",
       "     ⎜  d ⋅π    2    ⎟   4⋅μₑ⋅π⋅r \n",
       "- μₐ⋅⎜- ──── + d ⋅π⋅r⎟ + ─────────\n",
       "     ⎝   3           ⎠       3    "
      ]
     },
     "execution_count": 185,
     "metadata": {},
     "output_type": "execute_result"
    }
   ],
   "source": [
    "mue*((4*pi*r**3)/3)-mua*integrate(pi*(r**2-(x-r)**2), (x,0,d))"
   ]
  },
  {
   "cell_type": "markdown",
   "metadata": {},
   "source": [
    "Por fim, podemos atribuir os valores às constantes e obter uma forma final simplificada"
   ]
  },
  {
   "cell_type": "code",
   "execution_count": 186,
   "metadata": {},
   "outputs": [],
   "source": [
    "mue = 0.638\n",
    "mua = 1.000\n",
    "r = 10\n",
    "pi = 3.1415"
   ]
  },
  {
   "cell_type": "code",
   "execution_count": 187,
   "metadata": {},
   "outputs": [
    {
     "data": {
      "image/png": "[encoded data removed]",
      "text/latex": [
       "$\\displaystyle 1.04716666666667 d^{3} - 31.415 d^{2} + 2672.36933333333$"
      ],
      "text/plain": [
       "                  3           2                   \n",
       "1.04716666666667⋅d  - 31.415⋅d  + 2672.36933333333"
      ]
     },
     "execution_count": 187,
     "metadata": {},
     "output_type": "execute_result"
    }
   ],
   "source": [
    "mue*((4*pi*r**3)/3)-mua*integrate(pi*(r**2-(x-r)**2), (x,0,d))"
   ]
  },
  {
   "cell_type": "markdown",
   "metadata": {},
   "source": [
    "Observe que essa é a função que aparece no terceiro exemplo do início do capítulo. Observe também que temos aqui aproximações numéricas inevitáveis pois ao escrever o número $\\pi$ como $3.1415$ estamos obtendo uma aproximação, ou seja, inserindo um pequeno erro na solução final.\n",
    "\n",
    "Esses e muitos outros comandos podem ser aprendidos pesquisando na documentação do SymPy e nos inúmeros tutoriais na internet. Essa foi apenas uma pequena amostra para exemplificar a diferença entre computação numérica e computação simbólica e entendermos melhor a diferença de uma solução numérica e uma solução analítica. "
   ]
  },
  {
   "cell_type": "markdown",
   "metadata": {},
   "source": [
    "#### Erros nas aproximações numéricas\n",
    "\n",
    "Uma solução numérica é uma solução aproximada, não exata. A diferença entre a solução exata e a solução aproximada é chamada de erro e é inerente ao processo, raramente pode ser evitada. Os erros podem ocorrer na tanto fase de modelagem matemática, devido a simplificações e a imprecisão nos dados, quanto na fase de resolução, devido a truncamento ou arredondamento. O truncamento ocorre ao aproximar uma função por uma série infinita usando apenas um número finito de termos e o arredondamento acontece quando não é possível ou necessário reter todos os dígitos da parte fracionária."
   ]
  },
  {
   "cell_type": "markdown",
   "metadata": {},
   "source": [
    "Erros de arredondamento também ocorrem devido às limitações que a máquina possui em representar números reais. Nem todos os reais podem ser representados internamente de forma exata. A representação de números reais na maioria dos computadores utiliza o **sistema de ponto flutuante** e **base binária**. Nesse sistema, os números reais são armazenados em um conjunto fixo de bits. Cada bit pode assumir somente dois valores, 0 ou 1 (corte ou passagem de energia, respectivamente). \n"
   ]
  },
  {
   "cell_type": "markdown",
   "metadata": {},
   "source": [
    "Um ótimo exemplo da limitação dos computadores em representar certos números reais é mostrado quando fazemos uma simples conta de somar como é mostrado abaixo. O resultado inesperado ocorre porque oas numeros 0.1 e 0.2 não tem representação exata no sistema binário."
   ]
  },
  {
   "cell_type": "code",
   "execution_count": 208,
   "metadata": {},
   "outputs": [
    {
     "name": "stdout",
     "output_type": "stream",
     "text": [
      "0.30000000000000004\n"
     ]
    }
   ],
   "source": [
    "print(0.2 + 0.1)"
   ]
  },
  {
   "cell_type": "markdown",
   "metadata": {},
   "source": [
    "Vamos ver outro exemplo. Ao longo desse texto calculamos as soluções  da equação $x^2-7x+3=0$ e obtemos que são $\\frac{7}{2}-\\frac{\\sqrt{37}}{2}$ ou $\\frac{7}{2}+\\frac{\\sqrt{37}}{2}$. Observe o que acontece se substituirmos $x=\\frac{7}{2}-\\frac{\\sqrt{37}}{2}=0.45861873485089033$ na equação\n"
   ]
  },
  {
   "cell_type": "code",
   "execution_count": 209,
   "metadata": {},
   "outputs": [
    {
     "name": "stdout",
     "output_type": "stream",
     "text": [
      "-8.881784197001252e-16\n"
     ]
    }
   ],
   "source": [
    "print(0.45861873485089033**2-7*0.45861873485089033+3)"
   ]
  },
  {
   "cell_type": "markdown",
   "metadata": {},
   "source": [
    "Esperávamos que a resposta fosse $0$ mas ao invés disso obtemos um número muito próximo de zero, mas ainda assim, diferente de zero. Isso ocorre porque ao calcular o valor numérico de $\\sqrt{37}$ precisamos fazer uma aproximação. Além disso, o computador possui limitações para representar internamente um número real fazendo com que pequenos erros ocorram. "
   ]
  },
  {
   "cell_type": "markdown",
   "metadata": {},
   "source": [
    "Agora vamos calcular $\\frac{7}{2}+\\frac{\\sqrt{37}}{2}$ e substituir na função."
   ]
  },
  {
   "cell_type": "code",
   "execution_count": 205,
   "metadata": {},
   "outputs": [
    {
     "name": "stdout",
     "output_type": "stream",
     "text": [
      "x = 6.541381265149109\n",
      "f(x) = 0.0\n"
     ]
    }
   ],
   "source": [
    "import math\n",
    "x = 7/2 + math.sqrt(37)/2\n",
    "print('x =',x)\n",
    "print('f(x) =',x**2-7*x+3)"
   ]
  },
  {
   "cell_type": "markdown",
   "metadata": {},
   "source": [
    "Agora a resposta foi 0, ou seja, não aconteceram problemas de representação de numero e de arredondamento nesse caso."
   ]
  },
  {
   "cell_type": "markdown",
   "metadata": {},
   "source": [
    "O código abaixo permite visualizar o número mais próximo de 0.1 que o computador consegur representar internamente de forma exata. Observe que o erro aparece depois da 17ª casa decimal. Esse erro é relevante? Pense sobre isso :)"
   ]
  },
  {
   "cell_type": "code",
   "execution_count": 196,
   "metadata": {},
   "outputs": [
    {
     "data": {
      "text/plain": [
       "Decimal('0.1000000000000000055511151231257827021181583404541015625')"
      ]
     },
     "execution_count": 196,
     "metadata": {},
     "output_type": "execute_result"
    }
   ],
   "source": [
    "from decimal import Decimal\n",
    "Decimal(0.1)"
   ]
  },
  {
   "cell_type": "markdown",
   "metadata": {},
   "source": [
    "Veja abaixo como é possível visualizar o maior e o menor número real positivo que o computador consegue representar e também a precisão (épsilon da máquina)."
   ]
  },
  {
   "cell_type": "code",
   "execution_count": 197,
   "metadata": {},
   "outputs": [
    {
     "name": "stdout",
     "output_type": "stream",
     "text": [
      "Máximo representável: 1.7976931348623157e+308\n",
      "Mínimo represenável: 2.2250738585072014e-308\n",
      "Épsilon da máquina: 2.220446049250313e-16\n"
     ]
    }
   ],
   "source": [
    "import sys  \n",
    "print (\"Máximo representável:\", sys.float_info.max)\n",
    "print (\"Mínimo represenável:\", sys.float_info.min)\n",
    "print (\"Épsilon da máquina:\", sys.float_info.epsilon)"
   ]
  },
  {
   "cell_type": "markdown",
   "metadata": {},
   "source": [
    "Observe agora alguns exemplos que mostram como a ordem em que as contas são feitas pode alterar o resultado. Curioso, não é mesmo?"
   ]
  },
  {
   "cell_type": "code",
   "execution_count": 198,
   "metadata": {},
   "outputs": [
    {
     "name": "stdout",
     "output_type": "stream",
     "text": [
      "0.2 + 0.4 - 0.5 = 0.10000000000000009\n",
      "- 0.5 + 0.4 + 0.2 = 0.10000000000000003\n",
      "0.2 -0.1 + 0.2 - 0.1 = 0.20000000000000004\n",
      "0.2 - 0.1 + (0.2 - 0.1) = 0.2\n",
      "0.2 + 0.3 + 0.1 = 0.6\n",
      "0.2 + 0.1 + 0.3 = 0.6000000000000001\n"
     ]
    }
   ],
   "source": [
    "print (\"0.2 + 0.4 - 0.5 =\", 0.2 + 0.4 - 0.5)\n",
    "print (\"- 0.5 + 0.4 + 0.2 =\", - 0.5 + 0.4 + 0.2)\n",
    "print (\"0.2 -0.1 + 0.2 - 0.1 =\", 0.2 -0.1 + 0.2 - 0.1)\n",
    "print (\"0.2 - 0.1 + (0.2 - 0.1) =\", 0.2 - 0.1 + (0.2 - 0.1))\n",
    "print (\"0.2 + 0.3 + 0.1 =\", 0.2 + 0.3 + 0.1 )\n",
    "print (\"0.2 + 0.1 + 0.3 =\", 0.2 + 0.1 + 0.3) "
   ]
  },
  {
   "cell_type": "markdown",
   "metadata": {},
   "source": [
    "\n",
    "**Exercícios**\n",
    "1. Por que a saída para a linha de código `0.1 + 0.2 == 0.3` é False se o resultado da soma está correto?\n",
    "\n",
    "2. Faça as operações `0.1*0.2*0.3` e `0.3*0.2*0.1` usando Python e verifique se a ordem dos fatores afeta produto?\n",
    "\n",
    "3. Pesquise e responda: o que é o “épsilon da máquina”? Faça um programa em Python para obter o épsilon da máquina que você usa.\n",
    "\n",
    "4. A solução positiva da equação $f(x)=x^2-a$, com $a>0$, pode ser obtida pelo processo iterativo $x_{i+1} = \\frac{1}{2} \\left(x_i +\\frac{a}{x_i} \\right)$, $i=0,1,2,...$. Sabendo disso, encontre uma aproximação para $\\sqrt{3}$ com 5 casas decimais de precisão.\n",
    "\n",
    "5. Observe a fórmula de recorrência $x_{i+1}=4x_i -1$ com $i-0,1,2,...$ e $x_0=1/3$ gera uma sequência constante $x_1=x_2=x_3=...=1/3$. Use um programa em Python para gerar essa sequência e veja o que acontece quando o número de elementos aumenta muito. Você saberia explicar o que observa?\n"
   ]
  },
  {
   "cell_type": "code",
   "execution_count": null,
   "metadata": {},
   "outputs": [],
   "source": []
  },
  {
   "cell_type": "code",
   "execution_count": null,
   "metadata": {},
   "outputs": [],
   "source": []
  }
 ],
 "metadata": {
  "kernelspec": {
   "display_name": "Python 3",
   "language": "python",
   "name": "python3"
  },
  "language_info": {
   "codemirror_mode": {
    "name": "ipython",
    "version": 3
   },
   "file_extension": ".py",
   "mimetype": "text/x-python",
   "name": "python",
   "nbconvert_exporter": "python",
   "pygments_lexer": "ipython3",
   "version": "3.8.5"
  }
 },
 "nbformat": 4,
 "nbformat_minor": 4
}
