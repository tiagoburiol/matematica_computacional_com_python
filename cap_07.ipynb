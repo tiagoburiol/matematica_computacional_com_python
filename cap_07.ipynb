{
 "cells": [
  {
   "cell_type": "markdown",
   "metadata": {},
   "source": [
    "## 7. Álgebra linear numérica\n"
   ]
  },
  {
   "cell_type": "markdown",
   "metadata": {},
   "source": [
    "**Exemplo 7.1:**"
   ]
  },
  {
   "cell_type": "code",
   "execution_count": 78,
   "metadata": {},
   "outputs": [],
   "source": [
    "import numpy as np\n",
    "M = np.array([[1,2,3],[-1,5,0],[7,-2,4]])\n",
    "v = np.array([3,-1,0])"
   ]
  },
  {
   "cell_type": "code",
   "execution_count": 79,
   "metadata": {},
   "outputs": [
    {
     "name": "stdout",
     "output_type": "stream",
     "text": [
      "a) 3\n",
      "b) [  0 -16 -17]\n",
      "c) [ 1 -8 23]\n",
      "d) 16\n",
      "   [ -4 -12   2]\n",
      "e) 3.1622776601683795\n"
     ]
    }
   ],
   "source": [
    "# solução letra a)\n",
    "print('a)', v[0] + M[1,2])\n",
    "\n",
    "# solução letra b)\n",
    "print('b)',M[2] - 7*M[0])\n",
    "\n",
    "# solução letra c)\n",
    "print('c)',np.dot(M,v))\n",
    "\n",
    "# solução letra d)\n",
    "print('d)',np.dot(v,[5,-1,4]))\n",
    "print('  ',np.cross(v,[5,-1,4]))\n",
    "\n",
    "# solução letra e)\n",
    "print('e)',np.sqrt(np.sum(v*v)))\n",
    "#ou np.linalg.norm(v)"
   ]
  },
  {
   "cell_type": "markdown",
   "metadata": {},
   "source": [
    "Operações entre vetores, entre escalares e vetores, e utilizando funções que não usualmente definidas na álgebra linear, são realizadas elemento a elemento de um `array`. "
   ]
  },
  {
   "cell_type": "code",
   "execution_count": 10,
   "metadata": {},
   "outputs": [
    {
     "name": "stdout",
     "output_type": "stream",
     "text": [
      "2+v =  [5 1 2]\n",
      "np.cos(v)= [-0.9899925   0.54030231  1.        ]\n",
      "np.exp(v)= [20.08553692  0.36787944  1.        ]\n"
     ]
    }
   ],
   "source": [
    "# soma de um escalar por vetor\n",
    "print('2+v = ',2+v)\n",
    "# cosseno de v\n",
    "print('np.cos(v)=',np.cos(v))\n",
    "# exponencial de v\n",
    "print('np.exp(v)=',np.exp(v))"
   ]
  },
  {
   "cell_type": "markdown",
   "metadata": {},
   "source": [
    "**Exemplo 7.2:**"
   ]
  },
  {
   "cell_type": "code",
   "execution_count": 11,
   "metadata": {},
   "outputs": [
    {
     "name": "stdout",
     "output_type": "stream",
     "text": [
      "[15.1 -0.1  8.5]\n"
     ]
    }
   ],
   "source": [
    "import numpy as np\n",
    "A = np.array([[2.1, 5.3, 0.8],\n",
    "              [1.1,-3.9, 2.2],\n",
    "              [2.4, 3.5,-0.3]])\n",
    "\n",
    "b = np.array([15.1, -0.1, 8.5])\n",
    "\n",
    "x = np.array([1,2,3])\n",
    "\n",
    "# produto de A por x\n",
    "print(A.dot(x))"
   ]
  },
  {
   "cell_type": "code",
   "execution_count": 12,
   "metadata": {},
   "outputs": [
    {
     "name": "stdout",
     "output_type": "stream",
     "text": [
      "det(A)= 26.588000000000005\n",
      "x = [1. 2. 3.]\n",
      "A⁻¹b = [1. 2. 3.]\n"
     ]
    }
   ],
   "source": [
    "print('det(A)=', np.linalg.det(A))\n",
    "print('x =', np.linalg.solve(A,b))\n",
    "print('A⁻¹b =', np.linalg.inv(A).dot(b))"
   ]
  },
  {
   "cell_type": "markdown",
   "metadata": {},
   "source": [
    "**Exemplo 7.3:**"
   ]
  },
  {
   "cell_type": "code",
   "execution_count": 13,
   "metadata": {},
   "outputs": [
    {
     "name": "stdout",
     "output_type": "stream",
     "text": [
      "1) 11.0\n",
      "2) 11.0\n",
      "3) 11.0\n"
     ]
    }
   ],
   "source": [
    "x = np.array([-1,0,2,4,10])\n",
    "# usando um for\n",
    "norma = 0\n",
    "for xi in x:\n",
    "    norma += abs(xi)**2\n",
    "print ('1)',norma**0.5)\n",
    "\n",
    "# usando numpy\n",
    "print('2)',np.sqrt(np.sum(x**2)))\n",
    "\n",
    "# usando a função pronta\n",
    "print('3)',np.linalg.norm(x,2))"
   ]
  },
  {
   "cell_type": "markdown",
   "metadata": {},
   "source": [
    "**Exemplo 7.4:**"
   ]
  },
  {
   "cell_type": "code",
   "execution_count": 14,
   "metadata": {},
   "outputs": [
    {
     "name": "stdout",
     "output_type": "stream",
     "text": [
      "[ 1501.5 -3000. ]\n"
     ]
    }
   ],
   "source": [
    "A = np.array([[2, 1], \n",
    "              [2, 1.001]])\n",
    "b = np.array([3, 0])\n",
    "\n",
    "x = np.linalg.solve(A,b)\n",
    "\n",
    "print (x)"
   ]
  },
  {
   "cell_type": "code",
   "execution_count": 15,
   "metadata": {},
   "outputs": [
    {
     "data": {
      "text/plain": [
       "5001.000500000551"
      ]
     },
     "execution_count": 15,
     "metadata": {},
     "output_type": "execute_result"
    }
   ],
   "source": [
    "np.linalg.norm(A) * np.linalg.norm(np.linalg.inv(A))"
   ]
  },
  {
   "cell_type": "code",
   "execution_count": 16,
   "metadata": {},
   "outputs": [
    {
     "data": {
      "text/plain": [
       "3.162594030222659"
      ]
     },
     "execution_count": 16,
     "metadata": {},
     "output_type": "execute_result"
    }
   ],
   "source": [
    " np.linalg.norm(A)"
   ]
  },
  {
   "cell_type": "code",
   "execution_count": 25,
   "metadata": {},
   "outputs": [
    {
     "data": {
      "text/plain": [
       "0.00199999999999978"
      ]
     },
     "execution_count": 25,
     "metadata": {},
     "output_type": "execute_result"
    }
   ],
   "source": [
    " np.linalg.det(A)"
   ]
  },
  {
   "cell_type": "code",
   "execution_count": 17,
   "metadata": {},
   "outputs": [
    {
     "name": "stdout",
     "output_type": "stream",
     "text": [
      "[  751.5 -1500. ]\n"
     ]
    }
   ],
   "source": [
    "A = np.array([[2, 1], [2, 1.002]])\n",
    "x = np.linalg. solve(A,b)\n",
    "print (x)"
   ]
  },
  {
   "cell_type": "markdown",
   "metadata": {},
   "source": [
    "**Exemplo 7.5:**"
   ]
  },
  {
   "cell_type": "code",
   "execution_count": 25,
   "metadata": {},
   "outputs": [
    {
     "name": "stdout",
     "output_type": "stream",
     "text": [
      "[ 1. -1.  0.]\n"
     ]
    }
   ],
   "source": [
    "A = np.array([[2.,0.,0.], \n",
    "              [1.,4.,0.], \n",
    "              [1.,1.,1.]]) \n",
    "b = [2.,-3.,0.]\n",
    "\n",
    "\n",
    "def solve_L(L,b): \n",
    "    x = np.empty(len(b))\n",
    "    for i in range(len(b)):\n",
    "        x[i]=(b[i]-np.sum(L[i,:i]*x[:i]))/L[i,i]\n",
    "    return (x)\n",
    "\n",
    "\n",
    "print(solve_L(A,b))"
   ]
  },
  {
   "cell_type": "markdown",
   "metadata": {},
   "source": [
    "**Exemplo 7.6:**"
   ]
  },
  {
   "cell_type": "code",
   "execution_count": 26,
   "metadata": {},
   "outputs": [
    {
     "name": "stdout",
     "output_type": "stream",
     "text": [
      "[0.5 1.5 1. ]\n"
     ]
    }
   ],
   "source": [
    "A = np.array([[3,1,1], \n",
    "              [0,2,-1], \n",
    "              [0,0,3]])\n",
    "b = np.array([4,2,3])\n",
    "\n",
    "\n",
    "def solve_U(U,b):\n",
    "    x = np.empty(len(b))\n",
    "    for i in range(len(b)-1,-1,-1):\n",
    "        x[i]=(b[i]-np.sum(U[i,i+1:]*x[i+1:]))/U[i,i]\n",
    "    return (x)\n",
    "\n",
    "print (solve_U(A,b))"
   ]
  },
  {
   "cell_type": "markdown",
   "metadata": {},
   "source": [
    "**Exemplo 7.7:**"
   ]
  },
  {
   "cell_type": "code",
   "execution_count": 36,
   "metadata": {},
   "outputs": [
    {
     "data": {
      "text/plain": [
       "array([[ 3.        ,  2.        ,  4.        ],\n",
       "       [ 0.        ,  0.33333333,  0.66666667],\n",
       "       [ 0.        ,  0.33333333, -3.33333333]])"
      ]
     },
     "execution_count": 36,
     "metadata": {},
     "output_type": "execute_result"
    }
   ],
   "source": [
    "A = np.array([[3,2,4],\n",
    "              [1,1,2],\n",
    "              [4,3,2]])\n",
    "M1 = np.array([[1,             0, 0],\n",
    "               [-A[1,0]/A[0,0],1, 0],\n",
    "               [-A[2,0]/A[0,0],0, 1]])\n",
    "\n",
    "Al = M1.dot(A)\n",
    "Al"
   ]
  },
  {
   "cell_type": "code",
   "execution_count": 38,
   "metadata": {},
   "outputs": [
    {
     "data": {
      "text/plain": [
       "array([[ 1.,  0.,  0.],\n",
       "       [ 0.,  1.,  0.],\n",
       "       [ 0., -1.,  1.]])"
      ]
     },
     "execution_count": 38,
     "metadata": {},
     "output_type": "execute_result"
    }
   ],
   "source": [
    "M2 = np.array([[1,0,0],[0,1,0],[0,-Al[2,1]/Al[1,1],1]])\n",
    "M2"
   ]
  },
  {
   "cell_type": "code",
   "execution_count": 44,
   "metadata": {},
   "outputs": [
    {
     "data": {
      "text/plain": [
       "array([[ 3.    ,  2.    ,  4.    ],\n",
       "       [ 0.    ,  0.3333,  0.6667],\n",
       "       [ 0.    ,  0.    , -4.    ]])"
      ]
     },
     "execution_count": 44,
     "metadata": {},
     "output_type": "execute_result"
    }
   ],
   "source": [
    "#matriz U\n",
    "= M2.dot(Al)\n",
    "np.round(U,4)"
   ]
  },
  {
   "cell_type": "code",
   "execution_count": 49,
   "metadata": {},
   "outputs": [
    {
     "data": {
      "text/plain": [
       "array([[1.        , 0.        , 0.        ],\n",
       "       [0.33333333, 1.        , 0.        ],\n",
       "       [1.33333333, 1.        , 1.        ]])"
      ]
     },
     "execution_count": 49,
     "metadata": {},
     "output_type": "execute_result"
    }
   ],
   "source": [
    "# Matriz L\n",
    "L = np.linalg.inv(M1).dot(np.linalg.inv(M2))\n",
    "L"
   ]
  },
  {
   "cell_type": "code",
   "execution_count": 47,
   "metadata": {},
   "outputs": [
    {
     "data": {
      "text/plain": [
       "array([[3., 2., 4.],\n",
       "       [1., 1., 2.],\n",
       "       [4., 3., 2.]])"
      ]
     },
     "execution_count": 47,
     "metadata": {},
     "output_type": "execute_result"
    }
   ],
   "source": [
    "L.dot(U)"
   ]
  },
  {
   "cell_type": "markdown",
   "metadata": {},
   "source": [
    "**Exemplo 7.8:**"
   ]
  },
  {
   "cell_type": "code",
   "execution_count": 51,
   "metadata": {},
   "outputs": [
    {
     "data": {
      "text/plain": [
       "array([ 1.00000000e+00,  1.66666667e+00, -4.44089210e-16])"
      ]
     },
     "execution_count": 51,
     "metadata": {},
     "output_type": "execute_result"
    }
   ],
   "source": [
    "b = np.array([1,2,3])\n",
    "y = solve_L(L,b)\n",
    "y"
   ]
  },
  {
   "cell_type": "code",
   "execution_count": 53,
   "metadata": {},
   "outputs": [
    {
     "data": {
      "text/plain": [
       "array([-3.00000000e+00,  5.00000000e+00,  1.11022302e-16])"
      ]
     },
     "execution_count": 53,
     "metadata": {},
     "output_type": "execute_result"
    }
   ],
   "source": [
    "x = solve_U(U,y)\n",
    "x"
   ]
  },
  {
   "cell_type": "markdown",
   "metadata": {},
   "source": [
    "**Exemplo 7.9:**"
   ]
  },
  {
   "cell_type": "code",
   "execution_count": 54,
   "metadata": {},
   "outputs": [
    {
     "name": "stdout",
     "output_type": "stream",
     "text": [
      "Matriz L:\n",
      "[[1.         0.         0.        ]\n",
      " [0.33333333 1.         0.        ]\n",
      " [1.33333333 1.         1.        ]]\n",
      "Matriz U:\n",
      "[[ 3.          2.          4.        ]\n",
      " [ 0.          0.33333333  0.66666667]\n",
      " [ 0.          0.         -4.        ]]\n",
      "y= [ 1.      1.6667 -0.    ]\n",
      "x= [-3.  5.  0.]\n"
     ]
    }
   ],
   "source": [
    "import numpy as np\n",
    "\n",
    "def fatoracao_LU(A):\n",
    "    n = len(A)     \n",
    "    U = np.zeros((n,n))\n",
    "    L = np.identity(n)\n",
    "    for m in range(n):\n",
    "        for j in range(m, n):\n",
    "            U[m,j]=A[m,j]-np.sum(L[m,0:m]*U[0:m,j])\n",
    "        for i in range(m+1, n):\n",
    "            L[i,m]=(A[i,m]-np.sum(L[i,0:m]*U[0:m,m]))/U[m,m]\n",
    "    return L,U\n",
    "\n",
    "A = np.array([[3,2,4],\n",
    "              [1,1,2],\n",
    "              [4,3,2]])\n",
    "b = [1,2,3]\n",
    "L,U = fatoracao_LU(A)\n",
    "\n",
    "print (\"Matriz L:\")\n",
    "print (np.array(L))\n",
    "print (\"Matriz U:\")\n",
    "print(np.array(U))\n",
    "\n",
    "y = solve_L(L,b)\n",
    "print(\"y=\",np.round(y,4))\n",
    "x = solve_U(U,y)\n",
    "print(\"x=\",np.round(x,4))"
   ]
  },
  {
   "cell_type": "code",
   "execution_count": 33,
   "metadata": {},
   "outputs": [
    {
     "name": "stdout",
     "output_type": "stream",
     "text": [
      "Matriz L:\n",
      "[[1, 0, 0], [0.0, 1, 0], [0.5, 0.5, 1]]\n",
      "Matriz U:\n",
      "[[2, 0, 1], [0, 2.0, 1.0], [0, 0, 2.0]]\n"
     ]
    }
   ],
   "source": [
    "A = np.array([[2,0,1],[0,2,1],[1,1,3]])\n",
    "L,U = factor_LU(A)\n",
    "\n",
    "print (\"Matriz L:\")\n",
    "print (L)\n",
    "print (\"Matriz U:\")\n",
    "print(U)"
   ]
  },
  {
   "cell_type": "markdown",
   "metadata": {},
   "source": [
    "**Exemplo 7.10:**"
   ]
  },
  {
   "cell_type": "code",
   "execution_count": 58,
   "metadata": {},
   "outputs": [
    {
     "name": "stdout",
     "output_type": "stream",
     "text": [
      "Matriz ampliada escalonada:\n",
      "[[ 3.      2.      4.      1.    ]\n",
      " [ 0.      0.3333  0.6667  1.6667]\n",
      " [ 0.      0.     -4.     -0.    ]]\n"
     ]
    },
    {
     "data": {
      "text/plain": [
       "array([-3.,  5.,  0.])"
      ]
     },
     "execution_count": 58,
     "metadata": {},
     "output_type": "execute_result"
    }
   ],
   "source": [
    "def triangulariza(M):\n",
    "    for j in range(n-1):\n",
    "        for i in range(j,n-1):\n",
    "            m = M[i+1,j]/M[j,j]\n",
    "            M[i+1] = M[i+1]-m*M[j]\n",
    "    return (M)\n",
    "\n",
    "M = np.array([[3.,2.,4.,1.],\n",
    "              [1.,1.,2.,2.],\n",
    "              [4.,3.,2.,3.]])\n",
    "n = len(M)\n",
    "\n",
    "M = triangulariza(M)\n",
    "print('Matriz ampliada escalonada:')\n",
    "print (np.round(M,4))\n",
    "\n",
    "# separa a matriz ampliada em duas\n",
    "b = M[0:n+1,n:n+1]       \n",
    "A = M[0:n+1,0:n] \n",
    "\n",
    "# resolve o sistema triangular\n",
    "(np.round(solve_U(A,b),2))\n"
   ]
  },
  {
   "cell_type": "markdown",
   "metadata": {},
   "source": [
    "**Exemplo 7.11:**"
   ]
  },
  {
   "cell_type": "code",
   "execution_count": 59,
   "metadata": {},
   "outputs": [
    {
     "name": "stdout",
     "output_type": "stream",
     "text": [
      "Matriz final:\n",
      "Solução:\n",
      "[[ 1.  0.  0. -3.]\n",
      " [ 0.  1.  0.  5.]\n",
      " [-0. -0.  1.  0.]]\n",
      "x= [-3.  5.  0.]\n"
     ]
    }
   ],
   "source": [
    "def gaussJordan(M):\n",
    "    n = len(M)\n",
    "    for k in range(n):\n",
    "        M[k] = M[k]/M[k,k]\n",
    "        for i in range(n):\n",
    "            if i!=k:\n",
    "                M[i] = M[i] - M[i,k]*M[k]\n",
    "    return (M)\n",
    "\n",
    "\n",
    "M = np.array([[3.,2.,4.,1.],\n",
    "              [1.,1.,2.,2.],\n",
    "              [4.,3.,2.,3.]])\n",
    "\n",
    "Mf = gaussJordan(M)\n",
    "print ('Matriz final:')\n",
    "\n",
    "print ('Solução:')\n",
    "print(np.round(Mf,3))\n",
    "\n",
    "x = Mf[:,-1]\n",
    "\n",
    "print ('x=',np.round(x,3))"
   ]
  },
  {
   "cell_type": "markdown",
   "metadata": {},
   "source": [
    "**Exemplo 7.11:**"
   ]
  },
  {
   "cell_type": "code",
   "execution_count": 60,
   "metadata": {},
   "outputs": [
    {
     "name": "stdout",
     "output_type": "stream",
     "text": [
      "[-0.  0.  1.]\n"
     ]
    }
   ],
   "source": [
    "import numpy as np\n",
    "from numpy.linalg import inv\n",
    "\n",
    "A = np.array([[3,0,1],[3,2,1],[-3,1,3]])\n",
    "b = np.array([1,1,3])\n",
    "x = np.dot(inv(A),b)\n",
    "print (np.round(x,4))"
   ]
  },
  {
   "cell_type": "markdown",
   "metadata": {},
   "source": [
    "**Exemplo 7.12:**"
   ]
  },
  {
   "cell_type": "code",
   "execution_count": 61,
   "metadata": {},
   "outputs": [
    {
     "name": "stdout",
     "output_type": "stream",
     "text": [
      "Matriz ampliada:\n",
      "[[ 2.  1.  3.  1.  0.  0.]\n",
      " [ 0. -1.  1.  0.  1.  0.]\n",
      " [ 1.  0.  3.  0.  0.  1.]]\n",
      "Matriz após eliminação:\n",
      "[[ 1.   0.   0.   1.5  1.5 -2. ]\n",
      " [ 0.   1.   0.  -0.5 -1.5  1. ]\n",
      " [ 0.   0.   1.  -0.5 -0.5  1. ]]\n",
      "Matriz inversa:\n",
      "[[ 1.5  1.5 -2. ]\n",
      " [-0.5 -1.5  1. ]\n",
      " [-0.5 -0.5  1. ]]\n"
     ]
    }
   ],
   "source": [
    "def gaussJordan(M):\n",
    "    n = len(M)\n",
    "    for k in range(n):\n",
    "        M[k] = M[k]/M[k,k]\n",
    "        for i in range(n):\n",
    "            if i!=k:\n",
    "                M[i] = M[i] - M[i,k]*M[k]\n",
    "    return (M)\n",
    "\n",
    "A = np.array([[2,1,3],[0,-1,1],[1,0,3]], float)\n",
    "I = np.identity(len(A))\n",
    "M = np.concatenate((A,I), axis=1)\n",
    "\n",
    "print ('Matriz ampliada:')\n",
    "print (M)\n",
    "\n",
    "print ('Matriz após eliminação:')\n",
    "Mgj = gaussJordan(M)\n",
    "print (Mgj )\n",
    "\n",
    "print ('Matriz inversa:')\n",
    "Ainv = Mgj[:,3:6]\n",
    "print(Ainv)"
   ]
  },
  {
   "cell_type": "markdown",
   "metadata": {},
   "source": [
    "**Exemplo 7.13:**"
   ]
  },
  {
   "cell_type": "code",
   "execution_count": 67,
   "metadata": {},
   "outputs": [
    {
     "name": "stdout",
     "output_type": "stream",
     "text": [
      "1 [0.2 2.  1.7] 1.0\n",
      "2 [-1.14  1.24  0.88] 1.0806\n",
      "3 [-0.596  2.104  1.318] 0.4106\n",
      "4 [-1.1156  1.7112  0.918 ] 0.3036\n",
      "5 [-0.8392  2.079   1.1271] 0.1769\n",
      "6 [-1.0649  1.8848  0.9523] 0.1198\n",
      "7 [-0.9329  2.0451  1.0526] 0.0783\n",
      "8 [-1.033   1.9521  0.9753] 0.0513\n",
      "9 [-0.9711  2.0231  1.0225] 0.0351\n",
      "Solução: [-0.9711  2.0231  1.0225]\n"
     ]
    }
   ],
   "source": [
    "# Dados iniciais\n",
    "x = np.array([0.,0.,0.])\n",
    "\n",
    "# função para fazer as iterações\n",
    "def itera(x):\n",
    "    x1 = 2/10 - 5/10*x[1] - 2/10*x[2]\n",
    "    x2 = 10/5 - 2/5*x[0] - 2/5*x[2]\n",
    "    x3 = 17/10 - 1/10*x[0] - 4/10*x[1]\n",
    "    x = np.array([x1, x2, x3])\n",
    "    return x\n",
    "\n",
    "#várias iterações e o erro\n",
    "x_ant = x\n",
    "for i in range(1,10):\n",
    "    x = itera(x)\n",
    "    err = np.max(abs(x-x_ant))/np.max(abs(x))\n",
    "    x_ant = x\n",
    "    print (i, np.round(x,4), np.round(err,4))\n",
    "    \n",
    "print (\"Solução:\", np.round(x,4))"
   ]
  },
  {
   "cell_type": "code",
   "execution_count": 73,
   "metadata": {},
   "outputs": [
    {
     "name": "stdout",
     "output_type": "stream",
     "text": [
      "H = [[ 0.  -0.5 -0.2]\n",
      " [-0.4  0.  -0.4]\n",
      " [-0.1 -0.4  0. ]]\n",
      "g = [0.2 2.  1.7]\n",
      "Norma: 0.8\n",
      "Iterações:\n",
      "[0.2 2.  1.7] , Err= 1.0\n",
      "[-1.14  1.24  0.88] , Err= 0.6129\n",
      "[-0.596  2.104  1.318] , Err= 0.41065\n",
      "[-1.1156  1.7112  0.918 ] , Err= 0.22955\n",
      "[-0.8392  2.079   1.1271] , Err= 0.17693\n",
      "[-1.0649  1.8848  0.9523] , Err= 0.09273\n",
      "[-0.9329  2.0451  1.0526] , Err= 0.07834\n",
      "[-1.033   1.9521  0.9753] , Err= 0.03959\n",
      "[-0.9711  2.0231  1.0225] , Err= 0.03508\n",
      "[-1.016   1.9795  0.9879] , Err= 0.01747\n",
      "[-0.9873  2.0113  1.0098] , Err= 0.01581\n",
      "[-1.0076  1.991   0.9942] , Err= 0.00783\n"
     ]
    }
   ],
   "source": [
    "A = np.array([[10., 5., 2.],\n",
    "              [ 2.,5.,2.],\n",
    "              [ 1.,4.,10.]])\n",
    "b = np.array([2.,10.,17.])\n",
    "\n",
    "#Calculando a matriz H\n",
    "H = A.copy()\n",
    "g = b.copy()\n",
    "\n",
    "for i in range(len(A)):\n",
    "    H[i] = -A[i]/A[i,i]\n",
    "    g[i] = b[i]/A[i,i]\n",
    "    \n",
    "H = H + np.identity(len(A))\n",
    "print ('H =', H)\n",
    "print ('g =', g)\n",
    "\n",
    "# verificando a convergẽncia com a norma inf \n",
    "norma_inf = np.sum(abs(H), axis=1).max()\n",
    "print ('Norma:', norma_inf)\n",
    "\n",
    "# fazendo as iterações\n",
    "err = 1\n",
    "x = np.array([0,0,0])\n",
    "x_ant = x\n",
    "\n",
    "print ('Iterações:')\n",
    "while err>0.01:\n",
    "    x = np.dot(H,x)+g\n",
    "    err = abs(max(x-x_ant)/max(x))\n",
    "    x_ant = x   \n",
    "    print(np.round(x, 4), \", Err=\", np.round(err,5))"
   ]
  },
  {
   "cell_type": "markdown",
   "metadata": {},
   "source": [
    "**Exemplo 7.14:**"
   ]
  },
  {
   "cell_type": "code",
   "execution_count": 76,
   "metadata": {},
   "outputs": [
    {
     "name": "stdout",
     "output_type": "stream",
     "text": [
      "1 [0.2   1.92  0.912] ,Err= 0.0\n",
      "2 [-0.9424  2.0122  0.9894] ,Err= 0.5677\n",
      "3 [-1.004   2.0058  0.9981] ,Err= 0.0307\n",
      "Solução: [-1.004   2.0058  0.9981]\n"
     ]
    }
   ],
   "source": [
    "# Dados iniciais\n",
    "x = np.array([0.,0.,0.])\n",
    "\n",
    "# função para fazer as iterações\n",
    "def itera(x):\n",
    "    x[0] = 2/10 - 5/10*x[1] - 2/10*x[2]\n",
    "    x[1] = 10/5 - 2/5*x[0] - 2/5*x[2]\n",
    "    x[2] = 17/10 - 1/10*x[0] - 4/10*x[1]\n",
    "    return x\n",
    "\n",
    "#várias iterações e o erro\n",
    "x_ant = x\n",
    "for i in range(1,4):\n",
    "    x = itera(x)\n",
    "    err = np.max(abs(x-x_ant))/np.max(abs(x))\n",
    "    x_ant = x.copy()\n",
    "    print (i,np.round(x,4),\",Err=\", np.round(err,4))\n",
    "    \n",
    "print (\"Solução:\", np.round(x,4))"
   ]
  },
  {
   "cell_type": "markdown",
   "metadata": {},
   "source": [
    "**Exemplo 7.15:**"
   ]
  },
  {
   "cell_type": "code",
   "execution_count": 77,
   "metadata": {},
   "outputs": [
    {
     "name": "stdout",
     "output_type": "stream",
     "text": [
      "[0.2   1.92  0.912]\n",
      "[-0.9424  2.0122  0.9894]\n",
      "[-1.004   2.0058  0.9981]\n"
     ]
    }
   ],
   "source": [
    "from numpy.linalg import inv\n",
    "\n",
    "x = np.array([0.,0.,0.])\n",
    "\n",
    "eps = 0.001\n",
    "A = np.array([[10., 5., 2.],\n",
    "              [ 2.,5.,2.],\n",
    "              [ 1.,4.,10.]])\n",
    "b = np.array([2.,10.,17.])\n",
    "\n",
    "n = len(A)\n",
    "P = np.zeros((n,n))\n",
    "Q = np.zeros((n,n))\n",
    "g = np.zeros(n)\n",
    "\n",
    "for i in range(n):\n",
    "    P[i,0:i] = -A[i,0:i]/A[i,i]\n",
    "    Q[i,i+1:n] = -A[i,i+1:n]/A[i,i]\n",
    "    g[i] = b[i]/A[i,i] \n",
    "    \n",
    "I = np.eye(n)\n",
    "H = np.dot(inv(I-P),Q)\n",
    "g = np.dot(inv(I-P),g)\n",
    "\n",
    "for k in range(3):\n",
    "    x = np.dot(H,x) + g\n",
    "    print (np.round(x,4))"
   ]
  }
 ],
 "metadata": {
  "kernelspec": {
   "display_name": "Python 3",
   "language": "python",
   "name": "python3"
  },
  "language_info": {
   "codemirror_mode": {
    "name": "ipython",
    "version": 3
   },
   "file_extension": ".py",
   "mimetype": "text/x-python",
   "name": "python",
   "nbconvert_exporter": "python",
   "pygments_lexer": "ipython3",
   "version": "3.8.5"
  }
 },
 "nbformat": 4,
 "nbformat_minor": 4
}
